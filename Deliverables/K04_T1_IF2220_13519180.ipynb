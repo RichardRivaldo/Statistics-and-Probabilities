{
 "cells": [
  {
   "cell_type": "markdown",
   "metadata": {
    "id": "py1IFIwzJGhk"
   },
   "source": [
    "# Tugas Besar IF2220 Probabilitas dan Statistika\n",
    "## Penarikan Kesimpulan dan Pengujian Hipotesis"
   ]
  },
  {
   "cell_type": "markdown",
   "metadata": {
    "id": "9hcCwBhDcvO6"
   },
   "source": [
    "Karel Renaldi 13519180\n",
    "\n",
    "Richard Rivaldo 13519185\n",
    "\n",
    "Kelas 04 Teknik Informatika 2019"
   ]
  },
  {
   "cell_type": "markdown",
   "metadata": {
    "id": "snYb3E-WJX_E"
   },
   "source": [
    "\n",
    "\n",
    "---\n",
    "\n"
   ]
  },
  {
   "cell_type": "markdown",
   "metadata": {
    "id": "pb-ekZCWKA8P"
   },
   "source": [
    "# Libraries"
   ]
  },
  {
   "cell_type": "code",
   "execution_count": 1,
   "metadata": {
    "id": "yiCmQNjDKDbw"
   },
   "outputs": [],
   "source": [
    "import math\n",
    "import scipy\n",
    "import numpy as np\n",
    "import pandas as pd\n",
    "import seaborn as sns\n",
    "import matplotlib.pyplot as plt"
   ]
  },
  {
   "cell_type": "markdown",
   "metadata": {
    "id": "op4z_JGLJwI_"
   },
   "source": [
    "# Data Preprocessing"
   ]
  },
  {
   "cell_type": "markdown",
   "metadata": {
    "id": "mdP_b9bpKN32"
   },
   "source": [
    "**Membaca dan Menambahkan *Header* pada Data**"
   ]
  },
  {
   "cell_type": "code",
   "execution_count": 2,
   "metadata": {
    "id": "9hFF9uVuKNUe"
   },
   "outputs": [],
   "source": [
    "Gandum = pd.read_csv(\"Gandum.csv\", names = [\"id\", \"Daerah\", \"SumbuUtama\", \"SumbuKecil\", \"Keunikan\", \"AreaBulatan\", \n",
    "                  \"Diameter\", \"KadarAir\", \"Keliling\", \"Bulatan\", \"Ransum\", \"Kelas\"])"
   ]
  },
  {
   "cell_type": "markdown",
   "metadata": {
    "id": "BgtIsAWgKuNv"
   },
   "source": [
    "**Preview Data**"
   ]
  },
  {
   "cell_type": "code",
   "execution_count": 3,
   "metadata": {
    "colab": {
     "base_uri": "https://localhost:8080/",
     "height": 0
    },
    "id": "w0C4NH3wKq63",
    "outputId": "2153120f-308e-4006-f60f-7f3586fdb035"
   },
   "outputs": [
    {
     "data": {
      "text/html": [
       "<div>\n",
       "<style scoped>\n",
       "    .dataframe tbody tr th:only-of-type {\n",
       "        vertical-align: middle;\n",
       "    }\n",
       "\n",
       "    .dataframe tbody tr th {\n",
       "        vertical-align: top;\n",
       "    }\n",
       "\n",
       "    .dataframe thead th {\n",
       "        text-align: right;\n",
       "    }\n",
       "</style>\n",
       "<table border=\"1\" class=\"dataframe\">\n",
       "  <thead>\n",
       "    <tr style=\"text-align: right;\">\n",
       "      <th></th>\n",
       "      <th>id</th>\n",
       "      <th>Daerah</th>\n",
       "      <th>SumbuUtama</th>\n",
       "      <th>SumbuKecil</th>\n",
       "      <th>Keunikan</th>\n",
       "      <th>AreaBulatan</th>\n",
       "      <th>Diameter</th>\n",
       "      <th>KadarAir</th>\n",
       "      <th>Keliling</th>\n",
       "      <th>Bulatan</th>\n",
       "      <th>Ransum</th>\n",
       "      <th>Kelas</th>\n",
       "    </tr>\n",
       "  </thead>\n",
       "  <tbody>\n",
       "    <tr>\n",
       "      <th>0</th>\n",
       "      <td>1</td>\n",
       "      <td>5781</td>\n",
       "      <td>128.288875</td>\n",
       "      <td>58.470846</td>\n",
       "      <td>0.890095</td>\n",
       "      <td>5954</td>\n",
       "      <td>85.793926</td>\n",
       "      <td>0.674090</td>\n",
       "      <td>316.756</td>\n",
       "      <td>0.724041</td>\n",
       "      <td>2.194066</td>\n",
       "      <td>1</td>\n",
       "    </tr>\n",
       "    <tr>\n",
       "      <th>1</th>\n",
       "      <td>2</td>\n",
       "      <td>4176</td>\n",
       "      <td>109.348294</td>\n",
       "      <td>49.837688</td>\n",
       "      <td>0.890098</td>\n",
       "      <td>4277</td>\n",
       "      <td>72.918093</td>\n",
       "      <td>0.596231</td>\n",
       "      <td>260.346</td>\n",
       "      <td>0.774227</td>\n",
       "      <td>2.194088</td>\n",
       "      <td>1</td>\n",
       "    </tr>\n",
       "    <tr>\n",
       "      <th>2</th>\n",
       "      <td>3</td>\n",
       "      <td>4555</td>\n",
       "      <td>114.427991</td>\n",
       "      <td>52.151207</td>\n",
       "      <td>0.890105</td>\n",
       "      <td>4706</td>\n",
       "      <td>76.155145</td>\n",
       "      <td>0.776641</td>\n",
       "      <td>279.606</td>\n",
       "      <td>0.732159</td>\n",
       "      <td>2.194158</td>\n",
       "      <td>1</td>\n",
       "    </tr>\n",
       "    <tr>\n",
       "      <th>3</th>\n",
       "      <td>4</td>\n",
       "      <td>4141</td>\n",
       "      <td>108.701191</td>\n",
       "      <td>49.457349</td>\n",
       "      <td>0.890499</td>\n",
       "      <td>4236</td>\n",
       "      <td>72.611879</td>\n",
       "      <td>0.633180</td>\n",
       "      <td>260.478</td>\n",
       "      <td>0.766960</td>\n",
       "      <td>2.197877</td>\n",
       "      <td>1</td>\n",
       "    </tr>\n",
       "    <tr>\n",
       "      <th>4</th>\n",
       "      <td>5</td>\n",
       "      <td>5273</td>\n",
       "      <td>122.747869</td>\n",
       "      <td>55.757848</td>\n",
       "      <td>0.890876</td>\n",
       "      <td>5431</td>\n",
       "      <td>81.937733</td>\n",
       "      <td>0.669842</td>\n",
       "      <td>302.730</td>\n",
       "      <td>0.723031</td>\n",
       "      <td>2.201446</td>\n",
       "      <td>1</td>\n",
       "    </tr>\n",
       "    <tr>\n",
       "      <th>5</th>\n",
       "      <td>6</td>\n",
       "      <td>5371</td>\n",
       "      <td>123.943530</td>\n",
       "      <td>56.235398</td>\n",
       "      <td>0.891145</td>\n",
       "      <td>5531</td>\n",
       "      <td>82.695644</td>\n",
       "      <td>0.734144</td>\n",
       "      <td>297.114</td>\n",
       "      <td>0.764573</td>\n",
       "      <td>2.204013</td>\n",
       "      <td>1</td>\n",
       "    </tr>\n",
       "    <tr>\n",
       "      <th>6</th>\n",
       "      <td>7</td>\n",
       "      <td>6332</td>\n",
       "      <td>135.249060</td>\n",
       "      <td>61.312148</td>\n",
       "      <td>0.891344</td>\n",
       "      <td>6528</td>\n",
       "      <td>89.789492</td>\n",
       "      <td>0.579747</td>\n",
       "      <td>328.799</td>\n",
       "      <td>0.736020</td>\n",
       "      <td>2.205910</td>\n",
       "      <td>1</td>\n",
       "    </tr>\n",
       "    <tr>\n",
       "      <th>7</th>\n",
       "      <td>8</td>\n",
       "      <td>5595</td>\n",
       "      <td>126.292008</td>\n",
       "      <td>57.238214</td>\n",
       "      <td>0.891398</td>\n",
       "      <td>5745</td>\n",
       "      <td>84.402460</td>\n",
       "      <td>0.621046</td>\n",
       "      <td>303.285</td>\n",
       "      <td>0.764378</td>\n",
       "      <td>2.206428</td>\n",
       "      <td>1</td>\n",
       "    </tr>\n",
       "    <tr>\n",
       "      <th>8</th>\n",
       "      <td>9</td>\n",
       "      <td>4664</td>\n",
       "      <td>115.859780</td>\n",
       "      <td>52.493440</td>\n",
       "      <td>0.891471</td>\n",
       "      <td>4826</td>\n",
       "      <td>77.060945</td>\n",
       "      <td>0.712170</td>\n",
       "      <td>282.980</td>\n",
       "      <td>0.731909</td>\n",
       "      <td>2.207129</td>\n",
       "      <td>1</td>\n",
       "    </tr>\n",
       "    <tr>\n",
       "      <th>9</th>\n",
       "      <td>10</td>\n",
       "      <td>5762</td>\n",
       "      <td>128.482339</td>\n",
       "      <td>58.165177</td>\n",
       "      <td>0.891658</td>\n",
       "      <td>5932</td>\n",
       "      <td>85.652824</td>\n",
       "      <td>0.659872</td>\n",
       "      <td>312.678</td>\n",
       "      <td>0.740608</td>\n",
       "      <td>2.208922</td>\n",
       "      <td>1</td>\n",
       "    </tr>\n",
       "  </tbody>\n",
       "</table>\n",
       "</div>"
      ],
      "text/plain": [
       "   id  Daerah  SumbuUtama  SumbuKecil  Keunikan  AreaBulatan   Diameter  \\\n",
       "0   1    5781  128.288875   58.470846  0.890095         5954  85.793926   \n",
       "1   2    4176  109.348294   49.837688  0.890098         4277  72.918093   \n",
       "2   3    4555  114.427991   52.151207  0.890105         4706  76.155145   \n",
       "3   4    4141  108.701191   49.457349  0.890499         4236  72.611879   \n",
       "4   5    5273  122.747869   55.757848  0.890876         5431  81.937733   \n",
       "5   6    5371  123.943530   56.235398  0.891145         5531  82.695644   \n",
       "6   7    6332  135.249060   61.312148  0.891344         6528  89.789492   \n",
       "7   8    5595  126.292008   57.238214  0.891398         5745  84.402460   \n",
       "8   9    4664  115.859780   52.493440  0.891471         4826  77.060945   \n",
       "9  10    5762  128.482339   58.165177  0.891658         5932  85.652824   \n",
       "\n",
       "   KadarAir  Keliling   Bulatan    Ransum  Kelas  \n",
       "0  0.674090   316.756  0.724041  2.194066      1  \n",
       "1  0.596231   260.346  0.774227  2.194088      1  \n",
       "2  0.776641   279.606  0.732159  2.194158      1  \n",
       "3  0.633180   260.478  0.766960  2.197877      1  \n",
       "4  0.669842   302.730  0.723031  2.201446      1  \n",
       "5  0.734144   297.114  0.764573  2.204013      1  \n",
       "6  0.579747   328.799  0.736020  2.205910      1  \n",
       "7  0.621046   303.285  0.764378  2.206428      1  \n",
       "8  0.712170   282.980  0.731909  2.207129      1  \n",
       "9  0.659872   312.678  0.740608  2.208922      1  "
      ]
     },
     "execution_count": 3,
     "metadata": {},
     "output_type": "execute_result"
    }
   ],
   "source": [
    "Gandum.head(n = 10)"
   ]
  },
  {
   "cell_type": "markdown",
   "metadata": {
    "id": "pKkZwp-lJZ3H"
   },
   "source": [
    "# Nomor 1: *Descriptive Statistics*"
   ]
  },
  {
   "cell_type": "markdown",
   "metadata": {
    "id": "bySrw_PRIluR"
   },
   "source": [
    "**Kolom *Daerah***"
   ]
  },
  {
   "cell_type": "code",
   "execution_count": 4,
   "metadata": {
    "colab": {
     "base_uri": "https://localhost:8080/"
    },
    "id": "A1l3Ei2YGww_",
    "outputId": "073265b8-6e8e-49a9-9cae-e85a1f37cd7a"
   },
   "outputs": [
    {
     "name": "stdout",
     "output_type": "stream",
     "text": [
      "Mean = 4801.246\n",
      "Median = 4735.0\n",
      "Modus (4 data):\n",
      "3992, 4881, 5642, 6083\n",
      "Standar Deviasi = 986.3954914816017\n",
      "Variansi = 972976.0656152305\n",
      "Range = 4931\n",
      "Min = 2522\n",
      "Max = 7453\n",
      "Kuartil 1 = 4042.75\n",
      "Kuartil 2 = Median = 4735.0\n",
      "Kuartil 3 = 5495.5\n",
      "Interquartile Range (IQR) = 1452.75\n",
      "Skewness = 0.23814408738280812\n",
      "Kurtosis = -0.4346305340273977\n"
     ]
    }
   ],
   "source": [
    "print(\"Mean =\", Gandum[\"Daerah\"].mean())\n",
    "print(\"Median =\", Gandum[\"Daerah\"].median())\n",
    "modes = list(Gandum[\"Daerah\"].mode())\n",
    "print(\"Modus (%d data):\" %len(modes))\n",
    "if(len(modes) == 500):\n",
    "  print(\"Semua data dalam kolom ini bersifat unik, menyebabkan modusnya berjumlah seperti ukuran kolom ini.\")\n",
    "else:\n",
    "  for mode in modes:\n",
    "    if mode != modes[-1]:\n",
    "      print(mode, end = \", \")\n",
    "    else:\n",
    "      print(mode)\n",
    "print(\"Standar Deviasi =\", Gandum[\"Daerah\"].std())\n",
    "print(\"Variansi =\", Gandum[\"Daerah\"].var())\n",
    "print(\"Range =\", Gandum[\"Daerah\"].max() - Gandum[\"Daerah\"].min())\n",
    "print(\"Min =\", Gandum[\"Daerah\"].min())\n",
    "print(\"Max =\", Gandum[\"Daerah\"].max())\n",
    "print(\"Kuartil 1 =\", Gandum[\"Daerah\"].quantile(0.25))\n",
    "print(\"Kuartil 2 = Median =\", Gandum[\"Daerah\"].quantile(0.5))\n",
    "print(\"Kuartil 3 =\", Gandum[\"Daerah\"].quantile(0.75))\n",
    "print(\"Interquartile Range (IQR) =\", Gandum[\"Daerah\"].quantile(0.75) - Gandum[\"Daerah\"].quantile(0.25))\n",
    "print(\"Skewness =\", Gandum[\"Daerah\"].skew())\n",
    "print(\"Kurtosis =\", Gandum[\"Daerah\"].kurtosis())"
   ]
  },
  {
   "cell_type": "markdown",
   "metadata": {
    "id": "93aFlMPsZJzX"
   },
   "source": [
    "**Kolom *SumbuUtama***"
   ]
  },
  {
   "cell_type": "code",
   "execution_count": 5,
   "metadata": {
    "colab": {
     "base_uri": "https://localhost:8080/"
    },
    "id": "iLJYOQfJZNeb",
    "outputId": "87455d9d-05c2-4c40-8775-525af1c77f44"
   },
   "outputs": [
    {
     "name": "stdout",
     "output_type": "stream",
     "text": [
      "Mean = 116.04517136778001\n",
      "Median = 115.40513994999999\n",
      "Modus (500 data):\n",
      "Semua data dalam kolom ini bersifat unik, menyebabkan modusnya berjumlah seperti ukuran kolom ini.\n",
      "Standar Deviasi = 18.28262595755935\n",
      "Variansi = 334.25441190402296\n",
      "Range = 153.79546865999998\n",
      "Min = 74.13311404\n",
      "Max = 227.9285827\n",
      "Kuartil 1 = 104.11609817499999\n",
      "Kuartil 2 = Median = 115.40513994999999\n",
      "Kuartil 3 = 129.046792025\n",
      "Interquartile Range (IQR) = 24.93069385000001\n",
      "Skewness = 0.7615287378076631\n",
      "Kurtosis = 4.330533548436968\n"
     ]
    }
   ],
   "source": [
    "print(\"Mean =\", Gandum[\"SumbuUtama\"].mean())\n",
    "print(\"Median =\", Gandum[\"SumbuUtama\"].median())\n",
    "modes = list(Gandum[\"SumbuUtama\"].mode())\n",
    "print(\"Modus (%d data):\" %len(modes))\n",
    "if(len(modes) == 500):\n",
    "  print(\"Semua data dalam kolom ini bersifat unik, menyebabkan modusnya berjumlah seperti ukuran kolom ini.\")\n",
    "else:\n",
    "  for mode in modes:\n",
    "    if mode != modes[-1]:\n",
    "      print(mode, end = \", \")\n",
    "    else:\n",
    "      print(mode)\n",
    "print(\"Standar Deviasi =\", Gandum[\"SumbuUtama\"].std())\n",
    "print(\"Variansi =\", Gandum[\"SumbuUtama\"].var())\n",
    "print(\"Range =\", Gandum[\"SumbuUtama\"].max() - Gandum[\"SumbuUtama\"].min())\n",
    "print(\"Min =\", Gandum[\"SumbuUtama\"].min())\n",
    "print(\"Max =\", Gandum[\"SumbuUtama\"].max())\n",
    "print(\"Kuartil 1 =\", Gandum[\"SumbuUtama\"].quantile(0.25))\n",
    "print(\"Kuartil 2 = Median =\", Gandum[\"SumbuUtama\"].quantile(0.5))\n",
    "print(\"Kuartil 3 =\", Gandum[\"SumbuUtama\"].quantile(0.75))\n",
    "print(\"Interquartile Range (IQR) =\", Gandum[\"SumbuUtama\"].quantile(0.75) - Gandum[\"SumbuUtama\"].quantile(0.25))\n",
    "print(\"Skewness =\", Gandum[\"SumbuUtama\"].skew())\n",
    "print(\"Kurtosis =\", Gandum[\"SumbuUtama\"].kurtosis())"
   ]
  },
  {
   "cell_type": "markdown",
   "metadata": {
    "id": "inGwsgcWZoeL"
   },
   "source": [
    "**Kolom *SumbuKecil***"
   ]
  },
  {
   "cell_type": "code",
   "execution_count": 6,
   "metadata": {
    "colab": {
     "base_uri": "https://localhost:8080/"
    },
    "id": "rXYmsDzqZvLo",
    "outputId": "6e551ad9-69fc-48ca-8635-d00c3155b802"
   },
   "outputs": [
    {
     "name": "stdout",
     "output_type": "stream",
     "text": [
      "Mean = 53.71524598896\n",
      "Median = 53.731198774999996\n",
      "Modus (500 data):\n",
      "Semua data dalam kolom ini bersifat unik, menyebabkan modusnya berjumlah seperti ukuran kolom ini.\n",
      "Standar Deviasi = 4.0710747524750355\n",
      "Variansi = 16.57364964023967\n",
      "Range = 29.071182429999993\n",
      "Min = 39.90651744\n",
      "Max = 68.97769987\n",
      "Kuartil 1 = 51.1935763325\n",
      "Kuartil 2 = Median = 53.731198774999996\n",
      "Kuartil 3 = 56.3251579825\n",
      "Interquartile Range (IQR) = 5.131581650000001\n",
      "Skewness = -0.010828051555611359\n",
      "Kurtosis = 0.47556845043813656\n"
     ]
    }
   ],
   "source": [
    "print(\"Mean =\", Gandum[\"SumbuKecil\"].mean())\n",
    "print(\"Median =\", Gandum[\"SumbuKecil\"].median())\n",
    "modes = list(Gandum[\"SumbuKecil\"].mode())\n",
    "print(\"Modus (%d data):\" %len(modes))\n",
    "if(len(modes) == 500):\n",
    "  print(\"Semua data dalam kolom ini bersifat unik, menyebabkan modusnya berjumlah seperti ukuran kolom ini.\")\n",
    "else:\n",
    "  for mode in modes:\n",
    "    if mode != modes[-1]:\n",
    "      print(mode, end = \", \")\n",
    "    else:\n",
    "      print(mode)\n",
    "print(\"Standar Deviasi =\", Gandum[\"SumbuKecil\"].std())\n",
    "print(\"Variansi =\", Gandum[\"SumbuKecil\"].var())\n",
    "print(\"Range =\", Gandum[\"SumbuKecil\"].max() - Gandum[\"SumbuKecil\"].min())\n",
    "print(\"Min =\", Gandum[\"SumbuKecil\"].min())\n",
    "print(\"Max =\", Gandum[\"SumbuKecil\"].max())\n",
    "print(\"Kuartil 1 =\", Gandum[\"SumbuKecil\"].quantile(0.25))\n",
    "print(\"Kuartil 2 = Median =\", Gandum[\"SumbuKecil\"].quantile(0.5))\n",
    "print(\"Kuartil 3 =\", Gandum[\"SumbuKecil\"].quantile(0.75))\n",
    "print(\"Interquartile Range (IQR) =\", Gandum[\"SumbuKecil\"].quantile(0.75) - Gandum[\"SumbuKecil\"].quantile(0.25))\n",
    "print(\"Skewness =\", Gandum[\"SumbuKecil\"].skew())\n",
    "print(\"Kurtosis =\", Gandum[\"SumbuKecil\"].kurtosis())"
   ]
  },
  {
   "cell_type": "markdown",
   "metadata": {
    "id": "FDC9a84rZ6BX"
   },
   "source": [
    "**Kolom *Keunikan***"
   ]
  },
  {
   "cell_type": "code",
   "execution_count": 7,
   "metadata": {
    "colab": {
     "base_uri": "https://localhost:8080/"
    },
    "id": "5iGmSaYPZ9kH",
    "outputId": "4ec9c6d7-a751-4784-ef14-d560c866f08d"
   },
   "outputs": [
    {
     "name": "stdout",
     "output_type": "stream",
     "text": [
      "Mean = 0.8787639143399999\n",
      "Median = 0.8900454185\n",
      "Modus (500 data):\n",
      "Semua data dalam kolom ini bersifat unik, menyebabkan modusnya berjumlah seperti ukuran kolom ini.\n",
      "Standar Deviasi = 0.036585905504777014\n",
      "Variansi = 0.0013385284816044732\n",
      "Range = 0.19408517999999997\n",
      "Min = 0.7199162259999999\n",
      "Max = 0.9140014059999999\n",
      "Kuartil 1 = 0.8636757527500001\n",
      "Kuartil 2 = Median = 0.8900454185\n",
      "Kuartil 3 = 0.907577917\n",
      "Interquartile Range (IQR) = 0.04390216424999993\n",
      "Skewness = -1.6234718222806501\n",
      "Kurtosis = 2.917255925694389\n"
     ]
    }
   ],
   "source": [
    "print(\"Mean =\", Gandum[\"Keunikan\"].mean())\n",
    "print(\"Median =\", Gandum[\"Keunikan\"].median())\n",
    "modes = list(Gandum[\"Keunikan\"].mode())\n",
    "print(\"Modus (%d data):\" %len(modes))\n",
    "if(len(modes) == 500):\n",
    "  print(\"Semua data dalam kolom ini bersifat unik, menyebabkan modusnya berjumlah seperti ukuran kolom ini.\")\n",
    "else:\n",
    "  for mode in modes:\n",
    "    if mode != modes[-1]:\n",
    "      print(mode, end = \", \")\n",
    "    else:\n",
    "      print(mode)\n",
    "print(\"Standar Deviasi =\", Gandum[\"Keunikan\"].std())\n",
    "print(\"Variansi =\", Gandum[\"Keunikan\"].var())\n",
    "print(\"Range =\", Gandum[\"Keunikan\"].max() - Gandum[\"Keunikan\"].min())\n",
    "print(\"Min =\", Gandum[\"Keunikan\"].min())\n",
    "print(\"Max =\", Gandum[\"Keunikan\"].max())\n",
    "print(\"Kuartil 1 =\", Gandum[\"Keunikan\"].quantile(0.25))\n",
    "print(\"Kuartil 2 = Median =\", Gandum[\"Keunikan\"].quantile(0.5))\n",
    "print(\"Kuartil 3 =\", Gandum[\"Keunikan\"].quantile(0.75))\n",
    "print(\"Interquartile Range (IQR) =\", Gandum[\"Keunikan\"].quantile(0.75) - Gandum[\"Keunikan\"].quantile(0.25))\n",
    "print(\"Skewness =\", Gandum[\"Keunikan\"].skew())\n",
    "print(\"Kurtosis =\", Gandum[\"Keunikan\"].kurtosis())"
   ]
  },
  {
   "cell_type": "markdown",
   "metadata": {
    "id": "-q5lsEIWaIOv"
   },
   "source": [
    "**Kolom *AreaBulatan***"
   ]
  },
  {
   "cell_type": "code",
   "execution_count": 8,
   "metadata": {
    "colab": {
     "base_uri": "https://localhost:8080/"
    },
    "id": "N6jMVos2aL3N",
    "outputId": "87deed4a-637a-4b76-d2e7-dc5189ac72b1"
   },
   "outputs": [
    {
     "name": "stdout",
     "output_type": "stream",
     "text": [
      "Mean = 4937.048\n",
      "Median = 4857.0\n",
      "Modus (2 data):\n",
      "3802, 4913\n",
      "Standar Deviasi = 1011.6962549701573\n",
      "Variansi = 1023529.3123206414\n",
      "Range = 5141\n",
      "Min = 2579\n",
      "Max = 7720\n",
      "Kuartil 1 = 4170.25\n",
      "Kuartil 2 = Median = 4857.0\n",
      "Kuartil 3 = 5654.25\n",
      "Interquartile Range (IQR) = 1484.0\n",
      "Skewness = 0.2575600053152032\n",
      "Kurtosis = -0.40968492037366033\n"
     ]
    }
   ],
   "source": [
    "print(\"Mean =\", Gandum[\"AreaBulatan\"].mean())\n",
    "print(\"Median =\", Gandum[\"AreaBulatan\"].median())\n",
    "modes = list(Gandum[\"AreaBulatan\"].mode())\n",
    "print(\"Modus (%d data):\" %len(modes))\n",
    "if(len(modes) == 500):\n",
    "  print(\"Semua data dalam kolom ini bersifat unik, menyebabkan modusnya berjumlah seperti ukuran kolom ini.\")\n",
    "else:\n",
    "  for mode in modes:\n",
    "    if mode != modes[-1]:\n",
    "      print(mode, end = \", \")\n",
    "    else:\n",
    "      print(mode)\n",
    "print(\"Standar Deviasi =\", Gandum[\"AreaBulatan\"].std())\n",
    "print(\"Variansi =\", Gandum[\"AreaBulatan\"].var())\n",
    "print(\"Range =\", Gandum[\"AreaBulatan\"].max() - Gandum[\"AreaBulatan\"].min())\n",
    "print(\"Min =\", Gandum[\"AreaBulatan\"].min())\n",
    "print(\"Max =\", Gandum[\"AreaBulatan\"].max())\n",
    "print(\"Kuartil 1 =\", Gandum[\"AreaBulatan\"].quantile(0.25))\n",
    "print(\"Kuartil 2 = Median =\", Gandum[\"AreaBulatan\"].quantile(0.5))\n",
    "print(\"Kuartil 3 =\", Gandum[\"AreaBulatan\"].quantile(0.75))\n",
    "print(\"Interquartile Range (IQR) =\", Gandum[\"AreaBulatan\"].quantile(0.75) - Gandum[\"AreaBulatan\"].quantile(0.25))\n",
    "print(\"Skewness =\", Gandum[\"AreaBulatan\"].skew())\n",
    "print(\"Kurtosis =\", Gandum[\"AreaBulatan\"].kurtosis())"
   ]
  },
  {
   "cell_type": "markdown",
   "metadata": {
    "id": "do-YRtmMaYmx"
   },
   "source": [
    "**Kolom *Diameter***"
   ]
  },
  {
   "cell_type": "code",
   "execution_count": 9,
   "metadata": {
    "colab": {
     "base_uri": "https://localhost:8080/"
    },
    "id": "Wt1tnifraYJy",
    "outputId": "cb9ba213-a298-4c10-e9d2-39e1abe1be7c"
   },
   "outputs": [
    {
     "name": "stdout",
     "output_type": "stream",
     "text": [
      "Mean = 77.77115780832001\n",
      "Median = 77.64527658\n",
      "Modus (4 data):\n",
      "71.29356396, 78.83325579, 84.75622403, 88.00634154\n",
      "Standar Deviasi = 8.056867291849713\n",
      "Variansi = 64.91311055847774\n",
      "Range = 40.747172240000005\n",
      "Min = 56.66665803\n",
      "Max = 97.41383027\n",
      "Kuartil 1 = 71.74530754749999\n",
      "Kuartil 2 = Median = 77.64527658\n",
      "Kuartil 3 = 83.6485975675\n",
      "Interquartile Range (IQR) = 11.903290020000014\n",
      "Skewness = 0.002724966865193717\n",
      "Kurtosis = -0.4664545130312141\n"
     ]
    }
   ],
   "source": [
    "print(\"Mean =\", Gandum[\"Diameter\"].mean())\n",
    "print(\"Median =\", Gandum[\"Diameter\"].median())\n",
    "modes = list(Gandum[\"Diameter\"].mode())\n",
    "print(\"Modus (%d data):\" %len(modes))\n",
    "if(len(modes) == 500):\n",
    "  print(\"Semua data dalam kolom ini bersifat unik, menyebabkan modusnya berjumlah seperti ukuran kolom ini.\")\n",
    "else:\n",
    "  for mode in modes:\n",
    "    if mode != modes[-1]:\n",
    "      print(mode, end = \", \")\n",
    "    else:\n",
    "      print(mode)\n",
    "print(\"Standar Deviasi =\", Gandum[\"Diameter\"].std())\n",
    "print(\"Variansi =\", Gandum[\"Diameter\"].var())\n",
    "print(\"Range =\", Gandum[\"Diameter\"].max() - Gandum[\"Diameter\"].min())\n",
    "print(\"Min =\", Gandum[\"Diameter\"].min())\n",
    "print(\"Max =\", Gandum[\"Diameter\"].max())\n",
    "print(\"Kuartil 1 =\", Gandum[\"Diameter\"].quantile(0.25))\n",
    "print(\"Kuartil 2 = Median =\", Gandum[\"Diameter\"].quantile(0.5))\n",
    "print(\"Kuartil 3 =\", Gandum[\"Diameter\"].quantile(0.75))\n",
    "print(\"Interquartile Range (IQR) =\", Gandum[\"Diameter\"].quantile(0.75) - Gandum[\"Diameter\"].quantile(0.25))\n",
    "print(\"Skewness =\", Gandum[\"Diameter\"].skew())\n",
    "print(\"Kurtosis =\", Gandum[\"Diameter\"].kurtosis())"
   ]
  },
  {
   "cell_type": "markdown",
   "metadata": {
    "id": "-kSiusNaaukj"
   },
   "source": [
    "**Kolom *KadarAir***"
   ]
  },
  {
   "cell_type": "code",
   "execution_count": 10,
   "metadata": {
    "colab": {
     "base_uri": "https://localhost:8080/"
    },
    "id": "ZiRjBSE6azGZ",
    "outputId": "22dcd392-86bb-4019-b8eb-3b1dc2a4866b"
   },
   "outputs": [
    {
     "name": "stdout",
     "output_type": "stream",
     "text": [
      "Mean = 0.6483716718979999\n",
      "Median = 0.626116699\n",
      "Modus (2 data):\n",
      "0.735849057, 0.824404762\n",
      "Standar Deviasi = 0.09436709809379533\n",
      "Variansi = 0.00890514920264399\n",
      "Range = 0.46897193099999995\n",
      "Min = 0.409927152\n",
      "Max = 0.878899083\n",
      "Kuartil 1 = 0.57263245725\n",
      "Kuartil 2 = Median = 0.626116699\n",
      "Kuartil 3 = 0.7266333445000001\n",
      "Interquartile Range (IQR) = 0.15400088725000005\n",
      "Skewness = 0.49366131797330265\n",
      "Kurtosis = -0.7403261705867821\n"
     ]
    }
   ],
   "source": [
    "print(\"Mean =\", Gandum[\"KadarAir\"].mean())\n",
    "print(\"Median =\", Gandum[\"KadarAir\"].median())\n",
    "modes = list(Gandum[\"KadarAir\"].mode())\n",
    "print(\"Modus (%d data):\" %len(modes))\n",
    "if(len(modes) == 500):\n",
    "  print(\"Semua data dalam kolom ini bersifat unik, menyebabkan modusnya berjumlah seperti ukuran kolom ini.\")\n",
    "else:\n",
    "  for mode in modes:\n",
    "    if mode != modes[-1]:\n",
    "      print(mode, end = \", \")\n",
    "    else:\n",
    "      print(mode)\n",
    "print(\"Standar Deviasi =\", Gandum[\"KadarAir\"].std())\n",
    "print(\"Variansi =\", Gandum[\"KadarAir\"].var())\n",
    "print(\"Range =\", Gandum[\"KadarAir\"].max() - Gandum[\"KadarAir\"].min())\n",
    "print(\"Min =\", Gandum[\"KadarAir\"].min())\n",
    "print(\"Max =\", Gandum[\"KadarAir\"].max())\n",
    "print(\"Kuartil 1 =\", Gandum[\"KadarAir\"].quantile(0.25))\n",
    "print(\"Kuartil 2 = Median =\", Gandum[\"KadarAir\"].quantile(0.5))\n",
    "print(\"Kuartil 3 =\", Gandum[\"KadarAir\"].quantile(0.75))\n",
    "print(\"Interquartile Range (IQR) =\", Gandum[\"KadarAir\"].quantile(0.75) - Gandum[\"KadarAir\"].quantile(0.25))\n",
    "print(\"Skewness =\", Gandum[\"KadarAir\"].skew())\n",
    "print(\"Kurtosis =\", Gandum[\"KadarAir\"].kurtosis())"
   ]
  },
  {
   "cell_type": "markdown",
   "metadata": {
    "id": "OKkdKCEobArg"
   },
   "source": [
    "**Kolom *Keliling***"
   ]
  },
  {
   "cell_type": "code",
   "execution_count": 11,
   "metadata": {
    "colab": {
     "base_uri": "https://localhost:8080/"
    },
    "id": "nanDmfAtbDf4",
    "outputId": "c7535077-7224-46f7-e89c-7c35d77e800f"
   },
   "outputs": [
    {
     "name": "stdout",
     "output_type": "stream",
     "text": [
      "Mean = 281.4797219999999\n",
      "Median = 280.04549999999995\n",
      "Modus (500 data):\n",
      "Semua data dalam kolom ini bersifat unik, menyebabkan modusnya berjumlah seperti ukuran kolom ini.\n",
      "Standar Deviasi = 37.33540171514401\n",
      "Variansi = 1393.9322212311783\n",
      "Range = 291.822\n",
      "Min = 197.015\n",
      "Max = 488.837\n",
      "Kuartil 1 = 255.88299999999998\n",
      "Kuartil 2 = Median = 280.04549999999995\n",
      "Kuartil 3 = 306.0625\n",
      "Interquartile Range (IQR) = 50.17950000000002\n",
      "Skewness = 0.7336269072005543\n",
      "Kurtosis = 2.272684731245571\n"
     ]
    }
   ],
   "source": [
    "print(\"Mean =\", Gandum[\"Keliling\"].mean())\n",
    "print(\"Median =\", Gandum[\"Keliling\"].median())\n",
    "modes = list(Gandum[\"Keliling\"].mode())\n",
    "print(\"Modus (%d data):\" %len(modes))\n",
    "if(len(modes) == 500):\n",
    "  print(\"Semua data dalam kolom ini bersifat unik, menyebabkan modusnya berjumlah seperti ukuran kolom ini.\")\n",
    "else:\n",
    "  for mode in modes:\n",
    "    if mode != modes[-1]:\n",
    "      print(mode, end = \", \")\n",
    "    else:\n",
    "      print(mode)\n",
    "print(\"Standar Deviasi =\", Gandum[\"Keliling\"].std())\n",
    "print(\"Variansi =\", Gandum[\"Keliling\"].var())\n",
    "print(\"Range =\", Gandum[\"Keliling\"].max() - Gandum[\"Keliling\"].min())\n",
    "print(\"Min =\", Gandum[\"Keliling\"].min())\n",
    "print(\"Max =\", Gandum[\"Keliling\"].max())\n",
    "print(\"Kuartil 1 =\", Gandum[\"Keliling\"].quantile(0.25))\n",
    "print(\"Kuartil 2 = Median =\", Gandum[\"Keliling\"].quantile(0.5))\n",
    "print(\"Kuartil 3 =\", Gandum[\"Keliling\"].quantile(0.75))\n",
    "print(\"Interquartile Range (IQR) =\", Gandum[\"Keliling\"].quantile(0.75) - Gandum[\"Keliling\"].quantile(0.25))\n",
    "print(\"Skewness =\", Gandum[\"Keliling\"].skew())\n",
    "print(\"Kurtosis =\", Gandum[\"Keliling\"].kurtosis())"
   ]
  },
  {
   "cell_type": "markdown",
   "metadata": {
    "id": "aILYzSN_bMEB"
   },
   "source": [
    "**Kolom *Bulatan***"
   ]
  },
  {
   "cell_type": "code",
   "execution_count": 12,
   "metadata": {
    "colab": {
     "base_uri": "https://localhost:8080/"
    },
    "id": "But4x1eQbO88",
    "outputId": "fd05ec38-e437-4372-e19d-78578df17c8c"
   },
   "outputs": [
    {
     "name": "stdout",
     "output_type": "stream",
     "text": [
      "Mean = 0.7617374363080001\n",
      "Median = 0.7612884395\n",
      "Modus (500 data):\n",
      "Semua data dalam kolom ini bersifat unik, menyebabkan modusnya berjumlah seperti ukuran kolom ini.\n",
      "Standar Deviasi = 0.06170246078673262\n",
      "Variansi = 0.003807193667138276\n",
      "Range = 0.7301581349999999\n",
      "Min = 0.174590178\n",
      "Max = 0.9047483129999999\n",
      "Kuartil 1 = 0.731990728\n",
      "Kuartil 2 = Median = 0.7612884395\n",
      "Kuartil 3 = 0.79636096975\n",
      "Interquartile Range (IQR) = 0.06437024175000006\n",
      "Skewness = -3.5992367663616407\n",
      "Kurtosis = 29.97509590463005\n"
     ]
    }
   ],
   "source": [
    "print(\"Mean =\", Gandum[\"Bulatan\"].mean())\n",
    "print(\"Median =\", Gandum[\"Bulatan\"].median())\n",
    "modes = list(Gandum[\"Bulatan\"].mode())\n",
    "print(\"Modus (%d data):\" %len(modes))\n",
    "if(len(modes) == 500):\n",
    "  print(\"Semua data dalam kolom ini bersifat unik, menyebabkan modusnya berjumlah seperti ukuran kolom ini.\")\n",
    "else:\n",
    "  for mode in modes:\n",
    "    if mode != modes[-1]:\n",
    "      print(mode, end = \", \")\n",
    "    else:\n",
    "      print(mode)\n",
    "print(\"Standar Deviasi =\", Gandum[\"Bulatan\"].std())\n",
    "print(\"Variansi =\", Gandum[\"Bulatan\"].var())\n",
    "print(\"Range =\", Gandum[\"Bulatan\"].max() - Gandum[\"Bulatan\"].min())\n",
    "print(\"Min =\", Gandum[\"Bulatan\"].min())\n",
    "print(\"Max =\", Gandum[\"Bulatan\"].max())\n",
    "print(\"Kuartil 1 =\", Gandum[\"Bulatan\"].quantile(0.25))\n",
    "print(\"Kuartil 2 = Median =\", Gandum[\"Bulatan\"].quantile(0.5))\n",
    "print(\"Kuartil 3 =\", Gandum[\"Bulatan\"].quantile(0.75))\n",
    "print(\"Interquartile Range (IQR) =\", Gandum[\"Bulatan\"].quantile(0.75) - Gandum[\"Bulatan\"].quantile(0.25))\n",
    "print(\"Skewness =\", Gandum[\"Bulatan\"].skew())\n",
    "print(\"Kurtosis =\", Gandum[\"Bulatan\"].kurtosis())"
   ]
  },
  {
   "cell_type": "markdown",
   "metadata": {
    "id": "tMkR_gSObZvU"
   },
   "source": [
    "**Kolom *Ransum***"
   ]
  },
  {
   "cell_type": "code",
   "execution_count": 13,
   "metadata": {
    "colab": {
     "base_uri": "https://localhost:8080/"
    },
    "id": "2WE_GQGlbchq",
    "outputId": "2a427ed5-2cb2-4483-bfd2-d1b435c778c0"
   },
   "outputs": [
    {
     "name": "stdout",
     "output_type": "stream",
     "text": [
      "Mean = 2.150915331084\n",
      "Median = 2.1935990365\n",
      "Modus (500 data):\n",
      "Semua data dalam kolom ini bersifat unik, menyebabkan modusnya berjumlah seperti ukuran kolom ini.\n",
      "Standar Deviasi = 0.2497668892706582\n",
      "Variansi = 0.06238349897594124\n",
      "Range = 1.0240129659999997\n",
      "Min = 1.440795615\n",
      "Max = 2.4648085809999998\n",
      "Kuartil 1 = 1.98393879075\n",
      "Kuartil 2 = Median = 2.1935990365\n",
      "Kuartil 3 = 2.38161221825\n",
      "Interquartile Range (IQR) = 0.3976734275\n",
      "Skewness = -0.6581880925333653\n",
      "Kurtosis = -0.4286557930626156\n"
     ]
    }
   ],
   "source": [
    "print(\"Mean =\", Gandum[\"Ransum\"].mean())\n",
    "print(\"Median =\", Gandum[\"Ransum\"].median())\n",
    "modes = list(Gandum[\"Ransum\"].mode())\n",
    "print(\"Modus (%d data):\" %len(modes))\n",
    "if(len(modes) == 500):\n",
    "  print(\"Semua data dalam kolom ini bersifat unik, menyebabkan modusnya berjumlah seperti ukuran kolom ini.\")\n",
    "else:\n",
    "  for mode in modes:\n",
    "    if mode != modes[-1]:\n",
    "      print(mode, end = \", \")\n",
    "    else:\n",
    "      print(mode)\n",
    "print(\"Standar Deviasi =\", Gandum[\"Ransum\"].std())\n",
    "print(\"Variansi =\", Gandum[\"Ransum\"].var())\n",
    "print(\"Range =\", Gandum[\"Ransum\"].max() - Gandum[\"Ransum\"].min())\n",
    "print(\"Min =\", Gandum[\"Ransum\"].min())\n",
    "print(\"Max =\", Gandum[\"Ransum\"].max())\n",
    "print(\"Kuartil 1 =\", Gandum[\"Ransum\"].quantile(0.25))\n",
    "print(\"Kuartil 2 = Median =\", Gandum[\"Ransum\"].quantile(0.5))\n",
    "print(\"Kuartil 3 =\", Gandum[\"Ransum\"].quantile(0.75))\n",
    "print(\"Interquartile Range (IQR) =\", Gandum[\"Ransum\"].quantile(0.75) - Gandum[\"Ransum\"].quantile(0.25))\n",
    "print(\"Skewness =\", Gandum[\"Ransum\"].skew())\n",
    "print(\"Kurtosis =\", Gandum[\"Ransum\"].kurtosis())"
   ]
  },
  {
   "cell_type": "markdown",
   "metadata": {
    "id": "1XzpnX0sxbM-"
   },
   "source": [
    "# Nomor 2: Visualisasi Distribusi Data"
   ]
  },
  {
   "cell_type": "markdown",
   "metadata": {
    "id": "Y5FfVrJ9x4KE"
   },
   "source": [
    "**Kolom *Daerah***"
   ]
  },
  {
   "cell_type": "code",
   "execution_count": 14,
   "metadata": {
    "colab": {
     "base_uri": "https://localhost:8080/",
     "height": 0
    },
    "id": "IHDninpD3hSo",
    "outputId": "0c40100b-e68d-477e-cc67-026b7eca5e9c"
   },
   "outputs": [
    {
     "data": {
      "image/png": "[encoded data removed]",
      "text/plain": [
       "<Figure size 432x288 with 1 Axes>"
      ]
     },
     "metadata": {
      "needs_background": "light"
     },
     "output_type": "display_data"
    }
   ],
   "source": [
    "sns.histplot(data = Gandum, x = 'Daerah')\n",
    "plt.title(\"Histogram Daerah\")\n",
    "plt.show()"
   ]
  },
  {
   "cell_type": "code",
   "execution_count": 15,
   "metadata": {
    "colab": {
     "base_uri": "https://localhost:8080/",
     "height": 0
    },
    "id": "Fthj0MBN1VV0",
    "outputId": "47e363c6-6673-41c1-d327-ff870c2540dd"
   },
   "outputs": [
    {
     "data": {
      "image/png": "[encoded data removed]",
      "text/plain": [
       "<Figure size 432x288 with 1 Axes>"
      ]
     },
     "metadata": {
      "needs_background": "light"
     },
     "output_type": "display_data"
    }
   ],
   "source": [
    "Gandum.boxplot(column=['Daerah'])\n",
    "plt.title(\"Boxplot Daerah\")\n",
    "plt.show()"
   ]
  },
  {
   "cell_type": "markdown",
   "metadata": {
    "id": "wGEzw9vwcYY-"
   },
   "source": [
    "*Dari Histogram di atas dapat terlihat bahwa secara kasar kolom `Daerah` belum bisa dikatakan sebagai data yang berdistribusi normal. Pada data ini, nilai median tidak memiliki frekuensi tertinggi sehingga frekuensi maksimum data bukan berasal dari nilai tengahnya. Selain itu, data memiliki tendensi untuk bernilai dekat dengan nilai median, dan data-data dengan nilai yang semakin jauh dari median memiliki jumlah yang semakin mengecil. Dari Boxplot yang ada, maka dapat diketahui bahwa data merentang pada kisaran 2300 untuk nilai minimum sampai dengan nilai maksimum di kisaran 7700 dengan median pada angka 4700-an. Hal ini sesuai dengan analisis deskriptif yang dilakukan sebelumnya. Untuk Boxplot ini juga, panjang whiskers dari Boxplot sedikit lebih panjang pada bagian atas, dan nilai median pada Box juga cukup simetris, sehingga tidak bisa disimpulkan apabila data berdistribusi normal tanpa tes kuantitatif lebih lanjut. Selain itu, dapat diketahui bahwa tidak ada data pencilan dari data `Daerah`.*"
   ]
  },
  {
   "cell_type": "markdown",
   "metadata": {
    "id": "fi_SC226DHN9"
   },
   "source": [
    "**Kolom *SumbuUtama***"
   ]
  },
  {
   "cell_type": "code",
   "execution_count": 16,
   "metadata": {
    "colab": {
     "base_uri": "https://localhost:8080/",
     "height": 0
    },
    "id": "SGrQQI9j3_fT",
    "outputId": "0e22c553-3eb3-4c1b-e81c-e4e153fd3789"
   },
   "outputs": [
    {
     "data": {
      "image/png": "[encoded data removed]",
      "text/plain": [
       "<Figure size 432x288 with 1 Axes>"
      ]
     },
     "metadata": {
      "needs_background": "light"
     },
     "output_type": "display_data"
    }
   ],
   "source": [
    "sns.histplot(data = Gandum, x = \"SumbuUtama\")\n",
    "plt.title(\"Histogram Sumbu Utama\")\n",
    "plt.show()"
   ]
  },
  {
   "cell_type": "code",
   "execution_count": 17,
   "metadata": {
    "colab": {
     "base_uri": "https://localhost:8080/",
     "height": 0
    },
    "id": "YprtDISu1lbr",
    "outputId": "ac1706fe-031d-4cad-db73-ca2cd3f28a09"
   },
   "outputs": [
    {
     "data": {
      "image/png": "[encoded data removed]",
      "text/plain": [
       "<Figure size 432x288 with 1 Axes>"
      ]
     },
     "metadata": {
      "needs_background": "light"
     },
     "output_type": "display_data"
    }
   ],
   "source": [
    "Gandum.boxplot(column=['SumbuUtama'])\n",
    "plt.title(\"Boxplot Sumbu Utama\")\n",
    "plt.show()"
   ]
  },
  {
   "cell_type": "markdown",
   "metadata": {
    "id": "MBnJuwI71dID"
   },
   "source": [
    "*Dari Histogram di atas dapat terlihat bahwa secara kasar kolom `SumbuUtama` dapat dikatakan memiliki data yang sedikit multimodal karena terdapat dua buah nilai yang cukup tinggi sebagai puncak histogram. Pada data ini, nilai median memiliki frekuensi yang tidak terlalu banyak sehingga frekuensi maksimum data bukan berasal dari nilai tengahnya. Selain itu, data memiliki tendensi untuk bernilai dekat dengan nilai median, dan data-data dengan nilai yang semakin jauh dari median memiliki jumlah yang semakin mengecil. Dari Boxplot yang ada, maka dapat diketahui bahwa data merentang pada kisaran 75 untuk nilai minimum sampai dengan nilai maksimum di kisaran 158 dengan median pada angka 118-an. Hal ini sesuai dengan analisis deskriptif yang dilakukan sebelumnya. Untuk Boxplot ini juga, panjang whiskers dari Boxplot sedikit lebih panjang pada bagian bawah, dan nilai median pada Box juga sedikit lebih ke bawah, namun tidak bisa disimpulkan apabila data bersifat condong kiri atau condong kanan. Namun, secara kasar kita bisa mengetahui bahwa data ini tidak berdistribusi normal. Selain itu, dapat diketahui bahwa ada data pencilan atas dalam jumlah kecil dari data `SumbuUtama` yang terlihat pada Histogram dan Boxplot di atas.*"
   ]
  },
  {
   "cell_type": "markdown",
   "metadata": {
    "id": "Q_OHeiGBDNbs"
   },
   "source": [
    "**Kolom *SumbuKecil***"
   ]
  },
  {
   "cell_type": "code",
   "execution_count": 18,
   "metadata": {
    "colab": {
     "base_uri": "https://localhost:8080/",
     "height": 0
    },
    "id": "V8J2dvfM4J5U",
    "outputId": "6aa71278-d222-4e26-dd47-d7e5490be08e"
   },
   "outputs": [
    {
     "data": {
      "image/png": "[encoded data removed]",
      "text/plain": [
       "<Figure size 432x288 with 1 Axes>"
      ]
     },
     "metadata": {
      "needs_background": "light"
     },
     "output_type": "display_data"
    }
   ],
   "source": [
    "sns.histplot(data = Gandum, x = \"SumbuKecil\")\n",
    "plt.title(\"Histogram Sumbu Kecil\")\n",
    "plt.show()"
   ]
  },
  {
   "cell_type": "code",
   "execution_count": 19,
   "metadata": {
    "colab": {
     "base_uri": "https://localhost:8080/",
     "height": 0
    },
    "id": "7G3Rq1Zk16_d",
    "outputId": "089e3351-c41a-4147-e1b8-edb49d6c3d79"
   },
   "outputs": [
    {
     "data": {
      "image/png": "[encoded data removed]",
      "text/plain": [
       "<Figure size 432x288 with 1 Axes>"
      ]
     },
     "metadata": {
      "needs_background": "light"
     },
     "output_type": "display_data"
    }
   ],
   "source": [
    "Gandum.boxplot(column=['SumbuKecil'])\n",
    "plt.title(\"Boxplot Sumbu Kecil\")\n",
    "plt.show()"
   ]
  },
  {
   "cell_type": "markdown",
   "metadata": {
    "id": "FBiRztGS39Gg"
   },
   "source": [
    "*Dari Histogram di atas dapat terlihat bahwa secara kasar kolom `SumbuKecil` dapat dikatakan memiliki data yang juga sedikit multimodal, namun kurang multimodal jika dibandingkan data sebelumnya, karena terdapat dua buah nilai yang cukup tinggi sebagai puncak histogram tetapi nilai ini tidak terlalu berbeda dengan nilai di bawahnya. Pada data ini, nilai median memiliki frekuensi yang tidak terlalu banyak sehingga frekuensi maksimum data bukan berasal dari nilai tengahnya. Selain itu, data memiliki tendensi untuk bernilai dekat dengan nilai median, dan data-data dengan nilai yang semakin jauh dari median memiliki jumlah yang semakin mengecil. Secara kasar dapat terlihat bahwa data ini cukup simetris, sehingga bisa dikatakan bahwa data ini berdistribusi normal. Dari Boxplot yang ada, maka dapat diketahui bahwa data merentang pada kisaran 43 untuk nilai minimum sampai dengan nilai maksimum di kisaran 64 dengan median pada angka 53-an. Hal ini sesuai dengan analisis deskriptif yang dilakukan sebelumnya. Untuk Boxplot ini juga, panjang whiskers dari Boxplot dan nilai median pada Box terlihat cukup simetris. Hal ini sesuai dengan kesimpulan distribusi normal yang didapat dari Histogram tadi. Namun, data ini dapat dikatakan sebagai data yang kurang baik karena pada data ini terdapat banyak data pencilan atas maupun data pencilan bawah meskipun dalam jumlah kecil yang lebih terlihat jelas pada Boxplot di atas.*"
   ]
  },
  {
   "cell_type": "markdown",
   "metadata": {
    "id": "2eibiwzLE37b"
   },
   "source": [
    "**Kolom *Keunikan***"
   ]
  },
  {
   "cell_type": "code",
   "execution_count": 20,
   "metadata": {
    "colab": {
     "base_uri": "https://localhost:8080/",
     "height": 0
    },
    "id": "OzS3FR3P4MuS",
    "outputId": "7837673a-954f-45de-d6cd-4348a42b22e8"
   },
   "outputs": [
    {
     "data": {
      "image/png": "[encoded data removed]",
      "text/plain": [
       "<Figure size 432x288 with 1 Axes>"
      ]
     },
     "metadata": {
      "needs_background": "light"
     },
     "output_type": "display_data"
    }
   ],
   "source": [
    "sns.histplot(data = Gandum, x = \"Keunikan\")\n",
    "plt.title(\"Histogram Keunikan\")\n",
    "plt.show()"
   ]
  },
  {
   "cell_type": "code",
   "execution_count": 21,
   "metadata": {
    "colab": {
     "base_uri": "https://localhost:8080/",
     "height": 0
    },
    "id": "H4o2iwYjE-3a",
    "outputId": "aab8000a-44e7-488b-8b08-9e1c9b5b0766"
   },
   "outputs": [
    {
     "data": {
      "image/png": "[encoded data removed]",
      "text/plain": [
       "<Figure size 432x288 with 1 Axes>"
      ]
     },
     "metadata": {
      "needs_background": "light"
     },
     "output_type": "display_data"
    }
   ],
   "source": [
    "Gandum.boxplot(column=['Keunikan'])\n",
    "plt.title(\"Boxplot Keunikan\")\n",
    "plt.show()"
   ]
  },
  {
   "cell_type": "markdown",
   "metadata": {
    "id": "aUX9ltjS5zxl"
   },
   "source": [
    "*Dari Histogram di atas dapat terlihat jelas bahwa kolom `Keunikan` dapat memiliki distribusi yang negatively skewed. Pada data ini, nilai median memiliki frekuensi yang tidak terlalu banyak, dan nilai dengan frekuensi tertinggi merupakan nilai pinggiran atas atau nilai maksimumnya. Data memiliki tendensi untuk memiliki frekuensi yang semakin sedikit, jika nilainya semakin jauh dibandingkan nilai maksimum tadi. Pada Histogram, juga terlihat bahwa data memiliki banyak pencilan bawah dan hal ini juga terkonfirmasi melalui Boxplot yang ada. Selain itu, dapat dikatakan bahwa data merentang pada kisaran 0.8 untuk nilai minimum sampai dengan nilai maksimum di kisaran 0.90 dengan median pada angka 0.88-an. Hal ini sesuai dengan analisis deskriptif yang dilakukan sebelumnya. Untuk Boxplot ini juga, panjang whiskers dari Boxplot lebih panjang di bawah dan nilai median pada Box lebih bergerak ke atas. Dengan demikian, hal ini mengonfirmasi bahwa data memang lebih condong ke kiri dan bersifat left-skewed. Namun, data ini dapat dikatakan sebagai data yang kurang baik karena pada data ini terdapat banyak sekali data pencilan bawah yang lebih terlihat jelas pada Boxplot di atas.*"
   ]
  },
  {
   "cell_type": "markdown",
   "metadata": {
    "id": "9MmQJhSNDQij"
   },
   "source": [
    "**Kolom *AreaBulatan***"
   ]
  },
  {
   "cell_type": "code",
   "execution_count": 22,
   "metadata": {
    "colab": {
     "base_uri": "https://localhost:8080/",
     "height": 0
    },
    "id": "JiIEiYRj4Ptl",
    "outputId": "7d432800-e7a5-432b-9724-97f1882a54be"
   },
   "outputs": [
    {
     "data": {
      "image/png": "[encoded data removed]",
      "text/plain": [
       "<Figure size 432x288 with 1 Axes>"
      ]
     },
     "metadata": {
      "needs_background": "light"
     },
     "output_type": "display_data"
    }
   ],
   "source": [
    "sns.histplot(data = Gandum, x = \"AreaBulatan\")\n",
    "plt.title(\"Histogram Area Bulatan\")\n",
    "plt.show()"
   ]
  },
  {
   "cell_type": "code",
   "execution_count": 23,
   "metadata": {
    "colab": {
     "base_uri": "https://localhost:8080/",
     "height": 0
    },
    "id": "W0On0C2K2jOF",
    "outputId": "a87c5f02-dcd6-4646-94d2-04579410b9ed"
   },
   "outputs": [
    {
     "data": {
      "image/png": "[encoded data removed]",
      "text/plain": [
       "<Figure size 432x288 with 1 Axes>"
      ]
     },
     "metadata": {
      "needs_background": "light"
     },
     "output_type": "display_data"
    }
   ],
   "source": [
    "Gandum.boxplot(column=['AreaBulatan'])\n",
    "plt.title(\"Boxplot Area Bulatan\")\n",
    "plt.show()"
   ]
  },
  {
   "cell_type": "markdown",
   "metadata": {
    "id": "mbvxLe6c-cx3"
   },
   "source": [
    "*Dari Histogram di atas dapat terlihat bahwa kolom `AreaBulatan` memiliki data yang mirip dengan data `Daerah` dan belum bisa dikatakan berdistribusi normal. Pada data ini, nilai median bukan merupakan data dengan frekuensi tertinggi. Data memiliki tendensi untuk memiliki jumlah yang banyak di nilai-nilai sekitar median dan frekuensi data yang bernilai kecil sangat sedikit. Dari Boxplot yang ada, dapat dikatakan bahwa data merentang pada kisaran 2200 untuk nilai minimum sampai dengan nilai maksimum di kisaran 7700 dengan median pada angka 4900-an. Hal ini sesuai dengan analisis deskriptif yang dilakukan sebelumnya. Untuk Boxplot ini juga, panjang whiskers dari Boxplot sedikit lebih panjang di atas, tetapi nilai median pada Box cukup simetris. Dengan demikian, distribusi data tidak bisa dibuktikan tanpa tes kuantitatif lebih lanjut. Pada Boxplot di atas juga dapat diketahui bahwa tidak ada data pencilan sama sekali untuk data `AreaBulatan`.*"
   ]
  },
  {
   "cell_type": "markdown",
   "metadata": {
    "id": "dTi2wsZGDUGF"
   },
   "source": [
    "**Kolom *Diameter***"
   ]
  },
  {
   "cell_type": "code",
   "execution_count": 24,
   "metadata": {
    "colab": {
     "base_uri": "https://localhost:8080/",
     "height": 0
    },
    "id": "LO23Q9q14R-y",
    "outputId": "b04b0b35-30d9-4032-a4c6-de94294ea333"
   },
   "outputs": [
    {
     "data": {
      "image/png": "[encoded data removed]",
      "text/plain": [
       "<Figure size 432x288 with 1 Axes>"
      ]
     },
     "metadata": {
      "needs_background": "light"
     },
     "output_type": "display_data"
    }
   ],
   "source": [
    "sns.histplot(data = Gandum, x = \"Diameter\")\n",
    "plt.title(\"Histogram Diameter\")\n",
    "plt.show()"
   ]
  },
  {
   "cell_type": "code",
   "execution_count": 25,
   "metadata": {
    "colab": {
     "base_uri": "https://localhost:8080/",
     "height": 0
    },
    "id": "Mst4B3yq2pWu",
    "outputId": "a11ff488-ae79-473d-a072-5aeba8e936d1"
   },
   "outputs": [
    {
     "data": {
      "image/png": "[encoded data removed]",
      "text/plain": [
       "<Figure size 432x288 with 1 Axes>"
      ]
     },
     "metadata": {
      "needs_background": "light"
     },
     "output_type": "display_data"
    }
   ],
   "source": [
    "Gandum.boxplot(column=['Diameter'])\n",
    "plt.title(\"Boxplot Diameter\")\n",
    "plt.show()"
   ]
  },
  {
   "cell_type": "markdown",
   "metadata": {
    "id": "xkgxzxxe_2yu"
   },
   "source": [
    "*Dari Histogram di atas dapat terlihat bahwa kolom `Diameter` memiliki distribusi data yang cukup simetris sehingga data ini memiliki probabilitas yang cukup tinggi untuk menjadi data yang berdistribusi normal. Pada data ini, nilai median memiliki frekuensi yang paling tinggi. Data memiliki tendensi untuk memiliki frekuensi yang semakin sedikit, jika nilainya semakin jauh dari nilai tengah data. Dari Boxplot yang ada, dapat dikatakan bahwa data merentang pada kisaran 57 untuk nilai minimum sampai dengan nilai maksimum di kisaran 97 dengan median pada angka 77-an. Hal ini sesuai dengan analisis deskriptif yang dilakukan sebelumnya. Untuk Boxplot ini juga, panjang whiskers dari Boxplot dan nilai median pada Box cukup simetris. Dengan demikian, hal ini memperkuat dugaan bahwa data `Diameter` memiliki distribusi normal. Pada Boxplot juga dapat terlihat bahwa data ini tidak memiliki data pencilan sama sekali.*"
   ]
  },
  {
   "cell_type": "markdown",
   "metadata": {
    "id": "W6pDjf1YDXMO"
   },
   "source": [
    "**Kolom *KadarAir***"
   ]
  },
  {
   "cell_type": "code",
   "execution_count": 26,
   "metadata": {
    "colab": {
     "base_uri": "https://localhost:8080/",
     "height": 0
    },
    "id": "7b6MAaY34TXz",
    "outputId": "d82f0382-ff2f-4bd8-b0aa-53a54ba520a5"
   },
   "outputs": [
    {
     "data": {
      "image/png": "[encoded data removed]",
      "text/plain": [
       "<Figure size 432x288 with 1 Axes>"
      ]
     },
     "metadata": {
      "needs_background": "light"
     },
     "output_type": "display_data"
    }
   ],
   "source": [
    "sns.histplot(data = Gandum, x = \"KadarAir\")\n",
    "plt.title(\"Histogram Kadar Air\")\n",
    "plt.show()"
   ]
  },
  {
   "cell_type": "code",
   "execution_count": 27,
   "metadata": {
    "colab": {
     "base_uri": "https://localhost:8080/",
     "height": 0
    },
    "id": "rSic5KIk2ro9",
    "outputId": "11ab707d-211b-4eec-9b2d-de0ca1f2f5f9"
   },
   "outputs": [
    {
     "data": {
      "image/png": "[encoded data removed]",
      "text/plain": [
       "<Figure size 432x288 with 1 Axes>"
      ]
     },
     "metadata": {
      "needs_background": "light"
     },
     "output_type": "display_data"
    }
   ],
   "source": [
    "Gandum.boxplot(column=['KadarAir'])\n",
    "plt.title(\"Boxplot Kadar Air\")\n",
    "plt.show()"
   ]
  },
  {
   "cell_type": "markdown",
   "metadata": {
    "id": "bYLkSIXHDd0h"
   },
   "source": [
    "*Dari Histogram di atas dapat terlihat jelas bahwa kolom `KadarAir` memiliki data yang sedikit right-skewed. karena data-data bernilai kecil memiliki frekuensi yang lebih tinggi dibandingkan data-data pada kuartil atas. Pada data ini, nilai median memiliki frekuensi yang tidak terlalu banyak, dan nilai dengan frekuensi tertinggi merupakan nilai pinggiran bawahnya. Data memiliki tendensi untuk memiliki frekuensi yang semakin sedikit, jika nilainya semakin besar, namun ada beberapa data bernilai kecil yang juga memiliki frekuensi yang sedikit, sehingga data ini dapat dikatakan tidak terlalu condong kanan. Pada Histogram, terlihat sekilas bahwa ada data pencilan bawah yang jumlahnya kecil, namun pada Boxplot tidak ada data pencilan sama sekali. Hal ini memang relevan karena Boxplot lebih menggambarkan distribusi data pencilan dibandingkan Histogram. Selain itu, dapat dikatakan bahwa data merentang pada kisaran 0.4 untuk nilai minimum sampai dengan nilai maksimum di kisaran 0.88 dengan median pada angka 0.62-an. Hal ini sesuai dengan analisis deskriptif yang dilakukan sebelumnya. Untuk Boxplot ini juga, panjang whiskers dari Boxplot cukup simetris tetapi nilai median pada Box lebih bergerak ke bawah. Dengan demikian, kecondongan data tidak terlalu bisa digambarkan melalui kedua visualisasi ini.*"
   ]
  },
  {
   "cell_type": "markdown",
   "metadata": {
    "id": "ohTmN7ItDZAy"
   },
   "source": [
    "**Kolom *Keliling***"
   ]
  },
  {
   "cell_type": "code",
   "execution_count": 28,
   "metadata": {
    "colab": {
     "base_uri": "https://localhost:8080/",
     "height": 0
    },
    "id": "kAMwxJgC4WEL",
    "outputId": "0d15a456-ea33-4a87-f4e9-a19359ef3699"
   },
   "outputs": [
    {
     "data": {
      "image/png": "[encoded data removed]",
      "text/plain": [
       "<Figure size 432x288 with 1 Axes>"
      ]
     },
     "metadata": {
      "needs_background": "light"
     },
     "output_type": "display_data"
    }
   ],
   "source": [
    "sns.histplot(data = Gandum, x = \"Keliling\")\n",
    "plt.title(\"Histogram Keliling\")\n",
    "plt.show()"
   ]
  },
  {
   "cell_type": "code",
   "execution_count": 29,
   "metadata": {
    "colab": {
     "base_uri": "https://localhost:8080/",
     "height": 0
    },
    "id": "lQ0gPxiv2sxm",
    "outputId": "c96df8df-43e5-4d7e-e706-e2684e28222d"
   },
   "outputs": [
    {
     "data": {
      "image/png": "[encoded data removed]",
      "text/plain": [
       "<Figure size 432x288 with 1 Axes>"
      ]
     },
     "metadata": {
      "needs_background": "light"
     },
     "output_type": "display_data"
    }
   ],
   "source": [
    "Gandum.boxplot(column=['Keliling'])\n",
    "plt.title(\"Boxplot Keliling\")\n",
    "plt.show()"
   ]
  },
  {
   "cell_type": "markdown",
   "metadata": {
    "id": "Ar7l4L1SFLje"
   },
   "source": [
    "*Dari Histogram di atas dapat terlihat bahwa kolom `Keliling` belum bisa dikatakan sebagai data yang berdistribusi normal, namun sedikit multimodal dengan dua puncak Histogram yang bukan median. Pada data ini, nilai median memiliki frekuensi yang tidak terlalu banyak. Data memiliki tendensi untuk memiliki nilai yang dekat dengan nilai median. Pada Histogram, juga terlihat bahwa data memiliki banyak pencilan atas dan hal ini juga terkonfirmasi melalui Boxplot yang ada. Selain itu, dapat dikatakan bahwa data merentang pada kisaran 200 untuk nilai minimum sampai dengan nilai maksimum di kisaran 375 dengan median pada angka 275-an. Hal ini sesuai dengan analisis deskriptif yang dilakukan sebelumnya. Untuk Boxplot ini juga, panjang whiskers dari Boxplot dan nilai median pada Box cukup simetris. Dengan demikian, distribusi data tidak bisa ditentukan tanpa tes kuantitatif lebih lanjut.*"
   ]
  },
  {
   "cell_type": "markdown",
   "metadata": {
    "id": "oSnZQuBzDajJ"
   },
   "source": [
    "**Kolom *Bulatan***"
   ]
  },
  {
   "cell_type": "code",
   "execution_count": 30,
   "metadata": {
    "colab": {
     "base_uri": "https://localhost:8080/",
     "height": 0
    },
    "id": "wQOleLjF4Ynq",
    "outputId": "c18d185f-55a3-455c-8acf-d9a4315790f3"
   },
   "outputs": [
    {
     "data": {
      "image/png": "[encoded data removed]",
      "text/plain": [
       "<Figure size 432x288 with 1 Axes>"
      ]
     },
     "metadata": {
      "needs_background": "light"
     },
     "output_type": "display_data"
    }
   ],
   "source": [
    "sns.histplot(data = Gandum, x = \"Bulatan\")\n",
    "plt.title(\"Histogram Bulatan\")\n",
    "plt.show()"
   ]
  },
  {
   "cell_type": "code",
   "execution_count": 31,
   "metadata": {
    "colab": {
     "base_uri": "https://localhost:8080/",
     "height": 0
    },
    "id": "Tz5QBqfp2uzz",
    "outputId": "9f18420d-58e6-4d85-a856-c69341c4ddde"
   },
   "outputs": [
    {
     "data": {
      "image/png": "[encoded data removed]",
      "text/plain": [
       "<Figure size 432x288 with 1 Axes>"
      ]
     },
     "metadata": {
      "needs_background": "light"
     },
     "output_type": "display_data"
    }
   ],
   "source": [
    "Gandum.boxplot(column=['Bulatan'])\n",
    "plt.title(\"Boxplot Bulatan\")\n",
    "plt.show()"
   ]
  },
  {
   "cell_type": "markdown",
   "metadata": {
    "id": "2XtZ4CDdFJEQ"
   },
   "source": [
    "*Dari Histogram di atas dapat terlihat secara kasar bahwa kolom `Bulatan` memiliki distribusi yang lebih negatively skewed. Pada data ini, nilai median memiliki frekuensi yang tidak terlalu banyak, dan nilai dengan frekuensi tertinggi merupakan nilai yang lebih kecil dibandingkan dengan mediannya. Data memiliki tendensi untuk memiliki frekuensi yang semakin sedikit jika nilainya lebih kecil dibandingkan dengan nilai median. Pada Histogram, juga terlihat bahwa data memiliki banyak data pencilan bawah dan sedikit data pencilan atas. Hal ini juga terkonfirmasi melalui Boxplot yang ada. Selain itu, dapat dikatakan bahwa data merentang pada kisaran 0.65 untuk nilai minimum sampai dengan nilai maksimum di kisaran 0.90 dengan median pada angka 0.75-an. Hal ini sesuai dengan analisis deskriptif yang dilakukan sebelumnya. Untuk Boxplot ini juga, panjang whiskers dari Boxplot dan nilai median pada Box cukup simetris. Dengan demikian, hal ini tidak bisa mengonfirmasi kecondongan data yang terlihat pada histogram.*"
   ]
  },
  {
   "cell_type": "markdown",
   "metadata": {
    "id": "Pq6wWvMpDcFi"
   },
   "source": [
    "**Kolom *Ransum***"
   ]
  },
  {
   "cell_type": "code",
   "execution_count": 32,
   "metadata": {
    "colab": {
     "base_uri": "https://localhost:8080/",
     "height": 0
    },
    "id": "SiYmvY_C4ZKm",
    "outputId": "f0919fb8-6e1b-410f-d03a-a1086faad2df"
   },
   "outputs": [
    {
     "data": {
      "image/png": "[encoded data removed]",
      "text/plain": [
       "<Figure size 432x288 with 1 Axes>"
      ]
     },
     "metadata": {
      "needs_background": "light"
     },
     "output_type": "display_data"
    }
   ],
   "source": [
    "sns.histplot(data = Gandum, x = \"Ransum\")\n",
    "plt.title(\"Histogram Ransum\")\n",
    "plt.show()"
   ]
  },
  {
   "cell_type": "code",
   "execution_count": 33,
   "metadata": {
    "colab": {
     "base_uri": "https://localhost:8080/",
     "height": 0
    },
    "id": "E1BnkoE622Hx",
    "outputId": "117f4856-6089-4a2d-b4f4-55316334a4ca"
   },
   "outputs": [
    {
     "data": {
      "image/png": "[encoded data removed]",
      "text/plain": [
       "<Figure size 432x288 with 1 Axes>"
      ]
     },
     "metadata": {
      "needs_background": "light"
     },
     "output_type": "display_data"
    }
   ],
   "source": [
    "Gandum.boxplot(column=['Ransum'])\n",
    "plt.title(\"Boxplot Ransum\")\n",
    "plt.show()"
   ]
  },
  {
   "cell_type": "markdown",
   "metadata": {
    "id": "0dP3GSPsPO8G"
   },
   "source": [
    "*Dari Histogram di atas dapat terlihat jelas bahwa kolom `Ransum` dapat memiliki distribusi yang negatively skewed. Pada data ini, nilai median memiliki frekuensi yang tidak terlalu banyak, dan nilai dengan frekuensi tertinggi merupakan nilai pinggiran atas atau nilai maksimumnya. Data memiliki tendensi untuk memiliki frekuensi yang semakin sedikit, jika nilainya semakin jauh dibandingkan nilai maksimum tadi. Dari Boxplot dapat dikatakan bahwa data merentang pada kisaran 1.4 untuk nilai minimum sampai dengan nilai maksimum di kisaran 2.47 dengan median pada angka 2.2-an. Hal ini sesuai dengan analisis deskriptif yang dilakukan sebelumnya. Untuk Boxplot ini juga, panjang whiskers dari Boxplot lebih panjang di bawah dan nilai median pada Box lebih bergerak ke atas. Dengan demikian, hal ini mengonfirmasi bahwa data memang lebih condong ke kiri dan bersifat left-skewed. Melalui Boxplot dan Histogram di atas juga dapat dikatakan bahwa data ini tidak memiliki data pencilan sama sekali.*"
   ]
  },
  {
   "cell_type": "markdown",
   "metadata": {
    "id": "PiEBUADVFRI6"
   },
   "source": [
    "# Nomor 3: *Normality Test*"
   ]
  },
  {
   "cell_type": "markdown",
   "metadata": {
    "id": "W4sdbyxTMlMW"
   },
   "source": [
    "*Pada Normality Test ini digunakan metode testing yang dicetuskan `Shapiro-Wilk` dengan menggunakan bantuan pustaka `Scipy`. Dalam implementasinya akan digunakan tingkat signifikansi (`Alpha`) yang bernilai `0.05` sebagai nilai yang umum digunakan. Nilai Alpha ini akan menjadi sebuah threshold pengecekan Normality Test Shapiro-Wilk.*"
   ]
  },
  {
   "cell_type": "markdown",
   "metadata": {
    "id": "XOPpel-1US6M"
   },
   "source": [
    "*Dengan menggunakan pustaka Scipy, maka Shapiro-Wilk akan menghasilkan dua buah nilai. Nilai pertama merupakan nilai `W statistics` yang merupakan hasil perhitungan dengan simulasi Monte Carlo untuk mengecek apabila suatu sampel acak berasal dari data yang terdistribusi normal. Nilai W Statistics yang kecil menandakan bahwa data yang dihitung tidaklah berdistribusi normal. Nilai kedua menyatakan nilai probabilitas `p-value`, yang jika lebih kecil dari tingkat signifikansi tertentu akan mengimplikasikan bahwa data tersebut tidak berdistribusi normal.*"
   ]
  },
  {
   "cell_type": "markdown",
   "metadata": {
    "id": "KVSv3G3xUkYn"
   },
   "source": [
    "*Normality Test dengan metode Shapiro-Wilk sering disebut sebagai salah satu metode terbaik dalam hal pengecekan distribusi data. Hal ini dikarenakan metode Shapiro-Wilk dihitung berdasarkan korelasi data-data yang ada serta skor normal yang berkaitan dengan data tersebut. Dengan demikian, metode ini akan memiliki kemampuan pendeteksian suatu data berdistribusi normal atau tidak, dan dalam hal ini lebih baik dibandingkan dengan metode tes Kolmogorov-Smirnow meskipun setelah dipengaruhi oleh koreksi Lilliefors.*"
   ]
  },
  {
   "cell_type": "code",
   "execution_count": 34,
   "metadata": {
    "id": "ud8U-cRc7i80"
   },
   "outputs": [],
   "source": [
    "def shapiro_normality_test(data):\n",
    "  alpha = 0.05\n",
    "  w_statistics, p_value = scipy.stats.shapiro(data)\n",
    "\n",
    "  if(p_value > alpha):\n",
    "    print(\"Data\", data.name, \"pada dataset Gandum berdistribusi normal dengan p-value yang melebihi tingkat signifikansi 0.05, yaitu %.6f.\\n\" %p_value)\n",
    "  else:\n",
    "    print(\"Data\", data.name, \"pada dataset Gandum tidak berdistribusi normal karena p-value tidak melebihi tingkat signifikansi 0.05, yaitu %.6f.\\n\" %p_value)"
   ]
  },
  {
   "cell_type": "code",
   "execution_count": 35,
   "metadata": {
    "colab": {
     "base_uri": "https://localhost:8080/"
    },
    "id": "fDVKw73uPH2D",
    "outputId": "bbe3cbec-5aeb-44e0-9231-bc5293f72eb1"
   },
   "outputs": [
    {
     "name": "stdout",
     "output_type": "stream",
     "text": [
      "Normality Test dengan Metode Shapiro-Wilk dan Tingkat Signifikansi (Alpha) 0.05:\n",
      "Data Daerah pada dataset Gandum tidak berdistribusi normal karena p-value tidak melebihi tingkat signifikansi 0.05, yaitu 0.003271.\n",
      "\n",
      "Data SumbuUtama pada dataset Gandum tidak berdistribusi normal karena p-value tidak melebihi tingkat signifikansi 0.05, yaitu 0.000000.\n",
      "\n",
      "Data SumbuKecil pada dataset Gandum berdistribusi normal dengan p-value yang melebihi tingkat signifikansi 0.05, yaitu 0.423456.\n",
      "\n",
      "Data Keunikan pada dataset Gandum tidak berdistribusi normal karena p-value tidak melebihi tingkat signifikansi 0.05, yaitu 0.000000.\n",
      "\n",
      "Data AreaBulatan pada dataset Gandum tidak berdistribusi normal karena p-value tidak melebihi tingkat signifikansi 0.05, yaitu 0.002485.\n",
      "\n",
      "Data Diameter pada dataset Gandum berdistribusi normal dengan p-value yang melebihi tingkat signifikansi 0.05, yaitu 0.118345.\n",
      "\n",
      "Data KadarAir pada dataset Gandum tidak berdistribusi normal karena p-value tidak melebihi tingkat signifikansi 0.05, yaitu 0.000000.\n",
      "\n",
      "Data Keliling pada dataset Gandum tidak berdistribusi normal karena p-value tidak melebihi tingkat signifikansi 0.05, yaitu 0.000000.\n",
      "\n",
      "Data Bulatan pada dataset Gandum tidak berdistribusi normal karena p-value tidak melebihi tingkat signifikansi 0.05, yaitu 0.000000.\n",
      "\n",
      "Data Ransum pada dataset Gandum tidak berdistribusi normal karena p-value tidak melebihi tingkat signifikansi 0.05, yaitu 0.000000.\n",
      "\n"
     ]
    }
   ],
   "source": [
    "print(\"Normality Test dengan Metode Shapiro-Wilk dan Tingkat Signifikansi (Alpha) 0.05:\")\n",
    "for column_name in Gandum.columns[1:len(Gandum.columns) - 1]:\n",
    "  shapiro_normality_test(Gandum[column_name])"
   ]
  },
  {
   "cell_type": "markdown",
   "metadata": {
    "id": "kNN6I6G1YUh6"
   },
   "source": [
    "**Kolom *Daerah***"
   ]
  },
  {
   "cell_type": "markdown",
   "metadata": {
    "id": "gucTwIZjZSHa"
   },
   "source": [
    "*Kolom `Daerah` merupakan data yang tidak berdistribusi normal karena p-value dari data ini tidak melebihi tingkat signifikansi yang ada. Hal ini bisa terlihat dari bentuk dan karakteristik data yang divisualisasikan dengan histogram di atas, di mana visualisasi pada histogram terlihat tidak simetris secara keseluruhan. Selain itu, nilai mediannya tidak memiliki frekuensi tertinggi sehingga dapat dikatakan bahwa data pada kolom ini tidak berdistribusi normal dan hal ini diperkuat dengan fakta perhitungan normality test nya.*"
   ]
  },
  {
   "cell_type": "markdown",
   "metadata": {
    "id": "X7W3Ds9fYUiE"
   },
   "source": [
    "**Kolom *SumbuUtama***"
   ]
  },
  {
   "cell_type": "markdown",
   "metadata": {
    "id": "ogu4MbGPbuRz"
   },
   "source": [
    "*Kolom `SumbuUtama` merupakan data yang tidak berdistribusi normal karena p-value dari data ini tidak melebihi tingkat signifikansi yang ada. Hal ini bisa terlihat dari bentuk dan karakteristik data yang divisualisasikan dengan histogram di atas, di mana kolom `SumbuUtama` dapat dikatakan memiliki data yang sedikit multimodal karena terdapat dua buah nilai yang cukup tinggi sebagai puncak histogram. Pada data ini, nilai median memiliki frekuensi yang tidak terlalu banyak sehingga frekuensi maksimum data bukan berasal dari nilai tengahnya. Fakta bahwa kolom ini tidak berdistribusi normal juga diperkuat dan dibuktikan dengan hasil normality test di atas.*"
   ]
  },
  {
   "cell_type": "markdown",
   "metadata": {
    "id": "pFfb-1e5YUiG"
   },
   "source": [
    "**Kolom *SumbuKecil***"
   ]
  },
  {
   "cell_type": "markdown",
   "metadata": {
    "id": "9-4ltBV-bu8k"
   },
   "source": [
    "*Kolom `SumbuKecil` merupakan data yang berdistribusi normal karena p-value dari data ini melebihi tingkat signifikansi yang ada. Hal ini bisa terlihat dari bentuk dan karakteristik data yang divisualisasikan dengan histogram di atas, di mana dapat terlihat bahwa kolom `SumbuKecil` dapat dikatakan memiliki data yang juga sedikit multimodal, namun kurang multimodal jika dibandingkan data sebelum pada `SumbuUtama`, karena terdapat dua buah nilai yang cukup tinggi sebagai puncak histogram tetapi nilai ini tidak terlalu berbeda dengan nilai di bawahnya. Meskipun demikian, secara grafis data ini dapat dilihat memiliki visualisasi yang cukup simetris sehingga data ini juga masih dapat dibilang sebagai data berdistribusi normal. Hal ini juga dibuktikan dengan perhitungan normality test di atas.*"
   ]
  },
  {
   "cell_type": "markdown",
   "metadata": {
    "id": "mSwgliskYUiH"
   },
   "source": [
    "**Kolom *Keunikan***"
   ]
  },
  {
   "cell_type": "markdown",
   "metadata": {
    "id": "uYePDM-8b0WM"
   },
   "source": [
    "*Kolom `Keunikan` merupakan data yang tidak berdistribusi normal karena p-value dari data ini tidak melebihi tingkat signifikansi yang ada. Hal ini bisa terlihat dari bentuk dan karakteristik data yang divisualisasikan dengan histogram di atas, di mana kolom `Keunikan` dapat memiliki distribusi yang negatively skewed. Pada data ini, nilai median juga memiliki frekuensi yang tidak terlalu banyak, dan nilai dengan frekuensi tertinggi merupakan nilai pinggiran atas atau nilai maksimumnya. Data pada kolom ini juga memiliki tendensi untuk memiliki frekuensi yang semakin sedikit, jika nilainya semakin jauh dibandingkan nilai maksimum tadi. Dengan demikian, kolom `Keunikan` ini tidak berdistribusi normal dan hal ini diperkuat dengan normality test di atas.*"
   ]
  },
  {
   "cell_type": "markdown",
   "metadata": {
    "id": "MjuQnyIOYUiI"
   },
   "source": [
    "**Kolom *AreaBulatan***"
   ]
  },
  {
   "cell_type": "markdown",
   "metadata": {
    "id": "RZ9xH2t1b03I"
   },
   "source": [
    "*Kolom `AreaBulatan` merupakan data yang tidak berdistribusi normal karena p-value dari data ini tidak melebihi tingkat signifikansi yang ada. Hal ini bisa terlihat dari bentuk dan karakteristik data yang divisualisasikan dengan histogram di atas, di mana hasil visualisasi dari kolom ini mirip seperti hasil visualisasi pada kolom `Area` sehingga kolom ini juga belum bisa dikatakan berdistribusi normal. Hal ini juga diperkuat dan dibuktikan dengan normality test yang dilakukan di atas.*"
   ]
  },
  {
   "cell_type": "markdown",
   "metadata": {
    "id": "oEU-4OxdYUiM"
   },
   "source": [
    "**Kolom *Diameter***"
   ]
  },
  {
   "cell_type": "markdown",
   "metadata": {
    "id": "cdklkqcTb1L1"
   },
   "source": [
    "*Kolom `Diameter` merupakan data yang berdistribusi normal karena p-value dari data ini melebihi tingkat signifikansi yang ada. Hal ini bisa terlihat dari bentuk dan karakteristik data yang divisualisasikan dengan histogram di atas, di mana dapat terlihat bahwa kolom `Diameter` ini memiliki distribusi data yang cukup simetris sehingga data ini memiliki probabilitas yang cukup tinggi untuk menjadi data yang berdistribusi normal. Selain itu, fakta ini juga dibuktikan dengan hasil dari normality test di atas.*"
   ]
  },
  {
   "cell_type": "markdown",
   "metadata": {
    "id": "2KJvKfSoYUiN"
   },
   "source": [
    "**Kolom *KadarAir***"
   ]
  },
  {
   "cell_type": "markdown",
   "metadata": {
    "id": "O0-2IvXGb1kr"
   },
   "source": [
    "*Kolom `KadarAir` merupakan data yang tidak berdistribusi normal karena p-value dari data ini tidak melebihi tingkat signifikansi yang ada. Hal ini bisa terlihat dari bentuk dan karakteristik data yang divisualisasikan dengan histogram di atas, di mana terlihat bahwa kolom `KadarAir` memiliki data yang sedikit right-skewed karena data-data bernilai kecil memiliki frekuensi yang lebih tinggi dibandingkan data-data pada kuartil atas. Pada data ini, nilai median memiliki frekuensi yang tidak terlalu banyak, dan nilai dengan frekuensi tertinggi merupakan nilai pinggiran bawahnya. Oleh karena itu, bisa dikatakan bahwa data kolom `KadarAir` tidak berdistribusi normal dan hal ini juga dibuktikan dengan perhitungan di atas.*"
   ]
  },
  {
   "cell_type": "markdown",
   "metadata": {
    "id": "y0gEYTi-YUiO"
   },
   "source": [
    "**Kolom *Keliling***"
   ]
  },
  {
   "cell_type": "markdown",
   "metadata": {
    "id": "sZOfDEAxb15B"
   },
   "source": [
    "*Kolom `Keliling` merupakan data yang tidak berdistribusi normal karena p-value dari data ini tidak melebihi tingkat signifikansi yang ada. Hal ini bisa terlihat dari bentuk dan karakteristik data yang divisualisasikan dengan histogram di atas, di mana data belum bisa dikatakan sebagai data yang berdistribusi normal, namun sedikit multimodal dengan dua puncak Histogram yang bukan median. Dengan demikian, data ini tidak berdistribusi normal dan hal ini juga dibuktikan dengan normality test di atas.*"
   ]
  },
  {
   "cell_type": "markdown",
   "metadata": {
    "id": "lDWCjbwcYUiP"
   },
   "source": [
    "**Kolom *Bulatan***"
   ]
  },
  {
   "cell_type": "markdown",
   "metadata": {
    "id": "LXpHv1yNb2Rq"
   },
   "source": [
    "*Kolom `Bulatan` merupakan data yang tidak berdistribusi normal karena p-value dari data ini tidak melebihi tingkat signifikansi yang ada. Hal ini bisa terlihat dari bentuk dan karakteristik data yang divisualisasikan dengan histogram di atas, di mana dapat terlihat secara kasar bahwa kolom `Bulatan` memiliki distribusi yang lebih negatively skewed. Pada data ini, nilai median memiliki frekuensi yang tidak terlalu banyak, dan nilai dengan frekuensi tertinggi merupakan nilai yang lebih kecil dibandingkan dengan mediannya. Oleh karena itu, dapat disimpulkan juga bahwa data pada kolom ini juga tidak berdistribusi normal dan hal ini diperkuat dengan perhitungan normality test di atas.*"
   ]
  },
  {
   "cell_type": "markdown",
   "metadata": {
    "id": "Jn-Dd68yYUiQ"
   },
   "source": [
    "**Kolom *Ransum***"
   ]
  },
  {
   "cell_type": "markdown",
   "metadata": {
    "id": "QThrb6uzb2eI"
   },
   "source": [
    "*Kolom `Ransum` merupakan data yang tidak berdistribusi normal karena p-value dari data ini tidak melebihi tingkat signifikansi yang ada. Hal ini bisa terlihat dari bentuk dan karakteristik data yang divisualisasikan dengan histogram di atas, di mana terlihat jelas bahwa pada kolom ini data memiliki distribusi yang negatively skewed. Selain itu, data juga memiliki tendensi untuk memiliki frekuensi yang semakin sedikit, jika nilainya semakin jauh dibandingkan nilai maksimum. Dengan demikian, maka data ini tidak berdistribusi normal dan hal ini juga diperkuat dengan perhitungan normality test yang telah dilakukan di atas.*"
   ]
  },
  {
   "cell_type": "markdown",
   "metadata": {
    "id": "245EocXkwG4w"
   },
   "source": [
    "# Nomor 4: Tes Hipotesis 1 Sampel"
   ]
  },
  {
   "cell_type": "markdown",
   "metadata": {
    "id": "pF3t6sHQeqIJ"
   },
   "source": [
    "*Meskipun kedua perhitungan nilai z dan nilai t adalah sama secara semantik, namun di sini perhitungan keduanya dipisah untuk mempermudah membedakan keduanya. Penarikan kesimpulan dengan menggunakan konsep daerah kritis adalah dengan menentukan jika z-score atau t-score masuk ke daerah kritis. Dengan demikian, Null Hypothesis yang diajukan akan ditolak, dan jika sebaliknya, hipotesis ini akan gagal untuk ditolak.*"
   ]
  },
  {
   "cell_type": "markdown",
   "metadata": {
    "id": "7kXxHRpzQcyV"
   },
   "source": [
    "**Menghitung Nilai Z-Score**"
   ]
  },
  {
   "cell_type": "code",
   "execution_count": 36,
   "metadata": {
    "id": "As-Ki38UQcT3"
   },
   "outputs": [],
   "source": [
    "def count_z_score(x_bar, miu, std, n_sample):\n",
    "  return((x_bar - miu) / (std / math.sqrt(n_sample)))"
   ]
  },
  {
   "cell_type": "markdown",
   "metadata": {
    "id": "w-lQGfO0dg3Z"
   },
   "source": [
    "**Menghitung Nilai T-Score**"
   ]
  },
  {
   "cell_type": "code",
   "execution_count": 37,
   "metadata": {
    "id": "raHHLub5dtn_"
   },
   "outputs": [],
   "source": [
    "def count_t_score(x_bar, miu, std, n_sample):\n",
    "  return((x_bar - miu) / (std / math.sqrt(n_sample)))"
   ]
  },
  {
   "cell_type": "markdown",
   "metadata": {
    "id": "nLETn2gKwqEe"
   },
   "source": [
    "**Menampilkan Boxplot**"
   ]
  },
  {
   "cell_type": "code",
   "execution_count": 38,
   "metadata": {
    "id": "oSgLlod3wpZM"
   },
   "outputs": [],
   "source": [
    "def show_boxplot(col, data):\n",
    "  data.boxplot(column = [col])\n",
    "  plt.title(\"Boxplot %s\" %col)\n",
    "  plt.show()"
   ]
  },
  {
   "cell_type": "markdown",
   "metadata": {
    "id": "tt5Wt1NtMO2g"
   },
   "source": [
    "### **Nilai rata-rata Daerah di atas 4700?**"
   ]
  },
  {
   "cell_type": "markdown",
   "metadata": {
    "id": "QbP2E_jnPoN_"
   },
   "source": [
    "**Menghitung Jumlah Sampel Daerah**"
   ]
  },
  {
   "cell_type": "code",
   "execution_count": 39,
   "metadata": {
    "colab": {
     "base_uri": "https://localhost:8080/"
    },
    "id": "PwJ7c5QFPrS_",
    "outputId": "7d94b0eb-f679-42c9-8001-1cb7e74ccced"
   },
   "outputs": [
    {
     "name": "stdout",
     "output_type": "stream",
     "text": [
      "500\n"
     ]
    }
   ],
   "source": [
    "# Mendapatkan nilai atau banyaknya sampel dari data.\n",
    "n_sample = (Gandum['Daerah'].shape)[0]\n",
    "print(n_sample)"
   ]
  },
  {
   "cell_type": "code",
   "execution_count": 40,
   "metadata": {
    "colab": {
     "base_uri": "https://localhost:8080/"
    },
    "id": "OlTaJsfqQ_z0",
    "outputId": "b8b265d0-3f10-4adb-813d-c39335c9b2b9"
   },
   "outputs": [
    {
     "data": {
      "text/plain": [
       "False"
      ]
     },
     "execution_count": 40,
     "metadata": {},
     "output_type": "execute_result"
    }
   ],
   "source": [
    "# Cek apakah ada data yang kosong di dalam dataset\n",
    "Gandum['Daerah'].isnull().any()"
   ]
  },
  {
   "cell_type": "markdown",
   "metadata": {
    "id": "ObFf_uBNVnHN"
   },
   "source": [
    "*Karena tidak ada data yang null atau kosong, maka dapat disimpulkan bahwa untuk kolom `Daerah` pada dataset Gandum, terdapat sebanyak 500 sampel data dan untuk pengujian hipotesis diasumsikan bahwa sampel data ini bersifat acak.*"
   ]
  },
  {
   "cell_type": "markdown",
   "metadata": {
    "id": "B8eKVr5UbNj6"
   },
   "source": [
    "**Melakukan Tes Hipotesis dengan Metode Tes Statistik Z**"
   ]
  },
  {
   "cell_type": "markdown",
   "metadata": {
    "id": "WVlLX9sFjaoP"
   },
   "source": [
    "1. Menentukan bahwa Null Hypothesis dari pengujian ini adalah nilai rata-rata dari Daerah adalah 4700, yaitu H$_{0}$: `μ = 4700`.\n",
    "2. Hipotesis Alternatif yang ditentukan adalah bahwa nilai rata-rata dari Daerah di atas 4700, yaitu H$_{1}$: `μ > 4700`.\n",
    "3. Menentukan Tingkat Signifikansi yang digunakan, yaitu `α = 0.05`.\n",
    "4. Menentukan metode yang digunakan, yaitu `Tes Statistik Z`, karena sampel Daerah memiliki ukuran yang cukup besar (`n > 30`), sehingga meskipun Daerah tidak berdistribusi normal, metode tes statistik ini masih bisa dan cocok digunakan untuk menguji hipotesis tersebut. Selain itu, untuk hipotesis berarah H$_{1}$ seperti yang telah didefinisikan pada nomor 2, maka digunakan `One-Tailed Test`. Dengan `α = 0.05`, maka didapatkan bahwa daerah kritis dari pengecekan ini untuk z$_{α}$ adalah `z > 1.645`."
   ]
  },
  {
   "cell_type": "markdown",
   "metadata": {
    "id": "LlrF1wHfFIYJ"
   },
   "source": [
    "*Penarikan kesimpulan dilakukan utamanya dengan menggunakan konsep daerah kritis ini. Jika hipotesis nol ditolak, otomatis nilai p kurang dari taraf signifikansi yang digunakan, dan berlaku sebaliknya. Penarikan kesimpulan dengan p-value juga sama: jika p-value kurang dari taraf signifikansi yang ditetapkan, maka hipotesis nol ditolak, jika tidak maka kita gagal menolak hipotesis nol tersebut.*"
   ]
  },
  {
   "cell_type": "code",
   "execution_count": 41,
   "metadata": {
    "id": "S8LpPmekW1g5"
   },
   "outputs": [],
   "source": [
    "def one_tailed_test(z_score):\n",
    "  # One-Tailed Test dengan α = 0.05, sehingga daerah kritis ada di range z > 1.645 berdasarkan tabel z.\n",
    "  if(z_score > 1.645):\n",
    "    print(\"Hipotesis nol ditolak karena nilai z masuk ke dalam critical region.\")\n",
    "  else:\n",
    "    print(\"Hipotesis nol gagal ditolak karena nilai z tidak masuk ke dalam critical region.\")\n",
    "  print(\"Nilai z-score yang dihasilkan adalah\", z_score)\n",
    "  print(\"P-Value yang dihasilkan untuk z-score tersebut adalah\", scipy.stats.norm.sf(abs(z_score)))"
   ]
  },
  {
   "cell_type": "markdown",
   "metadata": {
    "id": "a_SDoiHXnPnf"
   },
   "source": [
    "Mendapatkan nilai $\\bar{x}$, μ$_{0}$, dan σ untuk Daerah"
   ]
  },
  {
   "cell_type": "code",
   "execution_count": 42,
   "metadata": {
    "id": "Rl5_utG5Ml8d"
   },
   "outputs": [],
   "source": [
    "x_bar = Gandum[\"Daerah\"].mean()\n",
    "miu = 4700\n",
    "std = Gandum[\"Daerah\"].std()"
   ]
  },
  {
   "cell_type": "code",
   "execution_count": 43,
   "metadata": {
    "colab": {
     "base_uri": "https://localhost:8080/"
    },
    "id": "rwrWjZ_OO8zA",
    "outputId": "440d21e2-ebea-4a4f-9193-caf022339d3b"
   },
   "outputs": [
    {
     "name": "stdout",
     "output_type": "stream",
     "text": [
      "Hipotesis nol ditolak karena nilai z masuk ke dalam critical region.\n",
      "Nilai z-score yang dihasilkan adalah 2.2951538242525173\n",
      "P-Value yang dihasilkan untuk z-score tersebut adalah 0.010862155196799872\n"
     ]
    }
   ],
   "source": [
    "# 5. Menentukan Nilai z-score\n",
    "z_score = count_z_score(x_bar, miu, std, n_sample)\n",
    "\n",
    "# 6. Menentukan apabila hipotesis nol ditolak atau tidak bisa ditolak\n",
    "one_tailed_test(z_score)"
   ]
  },
  {
   "cell_type": "markdown",
   "metadata": {
    "id": "oEyylhrZpZrk"
   },
   "source": [
    "*Dari pengujian hipotesis di atas didapatkan bahwa nilai z-score masuk ke dalam critical region, menyebabkan $H_{0}$ di awal pengujian ditolak untuk taraf signifikansi `α = 0.05`. Implikasi yang sama juga diberikan untuk nilai `p-value` di atas. Hal ini berarti bahwa hipotesis alternatif lebih mungkin terjadi pada data `Daerah`, atau dalam kata lain data `Daerah` memiliki rata-rata di atas 4700.*"
   ]
  },
  {
   "cell_type": "markdown",
   "metadata": {
    "id": "NX_QCWvMwZl7"
   },
   "source": [
    "**Boxplot Daerah**"
   ]
  },
  {
   "cell_type": "code",
   "execution_count": 44,
   "metadata": {
    "colab": {
     "base_uri": "https://localhost:8080/",
     "height": 0
    },
    "id": "YRg-VVYqwZAW",
    "outputId": "fb8a7d6f-e088-476d-a899-56f1aed0a9e7"
   },
   "outputs": [
    {
     "data": {
      "image/png": "[encoded data removed]",
      "text/plain": [
       "<Figure size 432x288 with 1 Axes>"
      ]
     },
     "metadata": {
      "needs_background": "light"
     },
     "output_type": "display_data"
    }
   ],
   "source": [
    "show_boxplot(\"Daerah\", Gandum)"
   ]
  },
  {
   "cell_type": "markdown",
   "metadata": {
    "id": "ojNYI80gMZdV"
   },
   "source": [
    "### **Nilai Rata-rata Sumbu Utama tidak sama dengan 116?**"
   ]
  },
  {
   "cell_type": "markdown",
   "metadata": {
    "id": "PykFifsjo-VK"
   },
   "source": [
    "**Menghitung Jumlah Sampel SumbuUtama**"
   ]
  },
  {
   "cell_type": "code",
   "execution_count": 45,
   "metadata": {
    "colab": {
     "base_uri": "https://localhost:8080/"
    },
    "id": "NMi6DKsepM2E",
    "outputId": "de5ab367-a20f-451f-aa8b-5b85af9750b9"
   },
   "outputs": [
    {
     "name": "stdout",
     "output_type": "stream",
     "text": [
      "500\n"
     ]
    }
   ],
   "source": [
    "# Mendapatkan nilai atau banyaknya sampel dari data.\n",
    "n_sample = (Gandum['SumbuUtama'].shape)[0]\n",
    "print(n_sample)"
   ]
  },
  {
   "cell_type": "code",
   "execution_count": 46,
   "metadata": {
    "colab": {
     "base_uri": "https://localhost:8080/"
    },
    "id": "ssrxMqD4pM2H",
    "outputId": "399ebd1e-06c3-40a5-dc99-68ec69ac9e6f"
   },
   "outputs": [
    {
     "data": {
      "text/plain": [
       "False"
      ]
     },
     "execution_count": 46,
     "metadata": {},
     "output_type": "execute_result"
    }
   ],
   "source": [
    "# Cek apakah ada data yang kosong di dalam dataset\n",
    "Gandum['SumbuUtama'].isnull().any()"
   ]
  },
  {
   "cell_type": "markdown",
   "metadata": {
    "id": "I7qFPxo7pM2L"
   },
   "source": [
    "*Karena tidak ada data yang null atau kosong, maka dapat disimpulkan bahwa untuk kolom `SumbuUtama` pada dataset Gandum, terdapat sebanyak 500 sampel data dan untuk pengujian hipotesis diasumsikan bahwa sampel data ini bersifat acak.*"
   ]
  },
  {
   "cell_type": "markdown",
   "metadata": {
    "id": "APfitEUhrs9k"
   },
   "source": [
    "**Melakukan Tes Hipotesis dengan Metode Tes Statistik Z**"
   ]
  },
  {
   "cell_type": "markdown",
   "metadata": {
    "id": "vuNQ7P7prs9l"
   },
   "source": [
    "1. Menentukan bahwa Null Hypothesis dari pengujian ini adalah nilai rata-rata dari SumbuUtama adalah 116, yaitu H$_{0}$: `μ = 116`.\n",
    "2. Hipotesis Alternatif yang ditentukan adalah bahwa nilai rata-rata dari SumbuUtama bukan 116, yaitu H$_{1}$: μ $\\neq$ 116.\n",
    "3. Menentukan Tingkat Signifikansi yang digunakan, yaitu `α = 0.05`.\n",
    "4. Menentukan metode yang digunakan, yaitu `Tes Statistik Z`, karena sampel SumbuUtama memiliki ukuran yang cukup besar (`n > 30`), sehingga meskipun SumbuUtama tidak berdistribusi normal, metode tes statistik ini masih bisa dan cocok digunakan untuk menguji hipotesis tersebut. Selain itu, untuk hipotesis tak berarah H$_{1}$ seperti pada nomor 2, maka digunakan `Two-Tailed Test`. Dengan `α = 0.05`, maka didapatkan bahwa daerah kritis dari pengecekan ini untuk z$_{α_/2}$ adalah `z > 1.96` atau `z < -1.96`."
   ]
  },
  {
   "cell_type": "markdown",
   "metadata": {
    "id": "L4eO2whGIbO7"
   },
   "source": [
    "*Penarikan kesimpulan dilakukan utamanya dengan menggunakan konsep daerah kritis ini. Jika hipotesis nol ditolak, otomatis nilai p kurang dari taraf signifikansi yang digunakan, dan berlaku sebaliknya. Penarikan kesimpulan dengan p-value juga sama: jika p-value kurang dari taraf signifikansi yang ditetapkan, maka hipotesis nol ditolak, jika tidak maka kita gagal menolak hipotesis nol tersebut.*"
   ]
  },
  {
   "cell_type": "code",
   "execution_count": 47,
   "metadata": {
    "id": "SXaqKWOsyVHH"
   },
   "outputs": [],
   "source": [
    "def two_tailed_test(z_score):\n",
    "  # Two-Tailed Test dengan α = 0.05, sehingga daerah kritis ada di range z < -1.96 atau z > 1.96.\n",
    "  if(z_score > 1.96 or z_score < -1.96):\n",
    "    print(\"Hipotesis nol ditolak karena nilai z masuk ke dalam critical region.\")\n",
    "  else:\n",
    "    print(\"Hipotesis nol gagal ditolak karena nilai z tidak masuk ke dalam critical region.\")\n",
    "  print(\"Nilai z-score yang dihasilkan adalah\", z_score)\n",
    "  print(\"P-Value yang dihasilkan untuk z-score tersebut adalah\", 2 * scipy.stats.norm.sf(abs(z_score)))"
   ]
  },
  {
   "cell_type": "markdown",
   "metadata": {
    "id": "2gga1RItrs9m"
   },
   "source": [
    "Mendapatkan nilai $\\bar{x}$, μ$_{0}$, dan σ untuk SumbuUtama"
   ]
  },
  {
   "cell_type": "code",
   "execution_count": 48,
   "metadata": {
    "id": "DomFOeNqrs9m"
   },
   "outputs": [],
   "source": [
    "x_bar = Gandum[\"SumbuUtama\"].mean()\n",
    "miu = 116\n",
    "std = Gandum[\"SumbuUtama\"].std()"
   ]
  },
  {
   "cell_type": "code",
   "execution_count": 49,
   "metadata": {
    "colab": {
     "base_uri": "https://localhost:8080/"
    },
    "id": "M3g-dgdNrs9n",
    "outputId": "2503e15b-e93b-420e-b974-b828d2f31ca3"
   },
   "outputs": [
    {
     "name": "stdout",
     "output_type": "stream",
     "text": [
      "Hipotesis nol gagal ditolak karena nilai z tidak masuk ke dalam critical region.\n",
      "Nilai z-score yang dihasilkan adalah 0.05524712326731844\n",
      "P-Value yang dihasilkan untuk z-score tersebut adalah 0.9559415872977383\n"
     ]
    }
   ],
   "source": [
    "# 5. Menentukan Nilai z-score\n",
    "z_score = count_z_score(x_bar, miu, std, n_sample)\n",
    "\n",
    "# 6. Menentukan apabila hipotesis nol ditolak atau tidak bisa ditolak\n",
    "two_tailed_test(z_score)"
   ]
  },
  {
   "cell_type": "markdown",
   "metadata": {
    "id": "7bdLIXg52KA0"
   },
   "source": [
    "*Dari pengujian hipotesis, didapatkan bahwa nilai z-score tidak masuk ke dalam daerah kritis sehingga $H_0$ gagal ditolak untuk taraf signifikansi `α = 0.05`. Implikasi yang sama juga diberikan untuk nilai `p-value` di atas. Meskipun kita belum bisa menyatakan bahwa hipotesis nol tersebut sepenuhnya benar, namun secara kasar kita bisa mengatakan bahwa hipotesis nol tersebut benar sehingga Sumbu Utama memiliki rata-rata 116.*"
   ]
  },
  {
   "cell_type": "markdown",
   "metadata": {
    "id": "QvViykr6yPnZ"
   },
   "source": [
    "**Boxplot Sumbu Utama**"
   ]
  },
  {
   "cell_type": "code",
   "execution_count": 50,
   "metadata": {
    "colab": {
     "base_uri": "https://localhost:8080/",
     "height": 0
    },
    "id": "wPaALiVnyPn6",
    "outputId": "fa615073-0c21-407d-f26b-771d1c608db9"
   },
   "outputs": [
    {
     "data": {
      "image/png": "[encoded data removed]",
      "text/plain": [
       "<Figure size 432x288 with 1 Axes>"
      ]
     },
     "metadata": {
      "needs_background": "light"
     },
     "output_type": "display_data"
    }
   ],
   "source": [
    "show_boxplot(\"SumbuUtama\", Gandum)"
   ]
  },
  {
   "cell_type": "markdown",
   "metadata": {
    "id": "J70JCQIGMcCI"
   },
   "source": [
    "### **Nilai Rata-rata 20 baris pertama kolom Sumbu Kecil bukan 50?**"
   ]
  },
  {
   "cell_type": "markdown",
   "metadata": {
    "id": "Go3mg_UpRYFD"
   },
   "source": [
    "**Mendapatkan 20 baris pertama kolom SumbuKecil**"
   ]
  },
  {
   "cell_type": "code",
   "execution_count": 51,
   "metadata": {
    "colab": {
     "base_uri": "https://localhost:8080/"
    },
    "id": "Oefn4ZNpMmqy",
    "outputId": "36eb396d-6727-4e47-e295-ea8e41e3b7f1"
   },
   "outputs": [
    {
     "name": "stdout",
     "output_type": "stream",
     "text": [
      "20\n"
     ]
    }
   ],
   "source": [
    "# 20 Baris Pertama Kolom Sumbu Kecil\n",
    "sk_first_20 = Gandum[\"SumbuKecil\"].iloc[:20]\n",
    "n_sample = (sk_first_20.shape)[0]\n",
    "print(n_sample)"
   ]
  },
  {
   "cell_type": "code",
   "execution_count": 52,
   "metadata": {
    "colab": {
     "base_uri": "https://localhost:8080/"
    },
    "id": "lRLnJAOXSJ-c",
    "outputId": "3d0dad53-cc57-4787-c56c-c0d16fbcdc95"
   },
   "outputs": [
    {
     "data": {
      "text/plain": [
       "False"
      ]
     },
     "execution_count": 52,
     "metadata": {},
     "output_type": "execute_result"
    }
   ],
   "source": [
    "# Cek apabila ada data kosong atau null\n",
    "sk_first_20.isnull().any()"
   ]
  },
  {
   "cell_type": "markdown",
   "metadata": {
    "id": "dJGns4B6SItT"
   },
   "source": [
    "*Karena tidak ada data yang null atau kosong, maka dapat disimpulkan bahwa untuk kolom `SumbuKecil` pada dataset Gandum, terdapat sebanyak 20 sampel data dan untuk pengujian hipotesis diasumsikan bahwa sampel data ini bersifat acak.*"
   ]
  },
  {
   "cell_type": "markdown",
   "metadata": {
    "id": "5uMxoiR4SdDA"
   },
   "source": [
    "**Melakukan Tes Hipotesis dengan Metode Tes Statistik T**"
   ]
  },
  {
   "cell_type": "markdown",
   "metadata": {
    "id": "-gJmU9z5SdDQ"
   },
   "source": [
    "1. Menentukan bahwa Null Hypothesis dari pengujian ini adalah nilai rata-rata dari 20 baris pertama SumbuKecil adalah 50, yaitu H$_{0}$: `μ = 50`.\n",
    "2. Hipotesis Alternatif yang ditentukan adalah bahwa nilai rata-rata dari 20 baris pertama SumbuKecil bukan 50, yaitu H$_{1}$: μ $\\neq$ 50.\n",
    "3. Menentukan Tingkat Signifikansi yang digunakan, yaitu `α = 0.05`.\n",
    "4. Menentukan metode yang digunakan, yaitu `Tes Statistik T`, karena sampel SumbuKecil memiliki ukuran yang sangat kecil (`n < 30`), sehingga metode tes statistik ini lebih cocok digunakan untuk menguji hipotesis tersebut dibandingkan metode tes statistik z. Selain itu, untuk hipotesis tak berarah H$_{1}$ seperti pada nomor 2, maka digunakan `Two-Tailed Test`."
   ]
  },
  {
   "cell_type": "markdown",
   "metadata": {
    "id": "rPw5igfcSdDS"
   },
   "source": [
    "*Penarikan kesimpulan dilakukan utamanya dengan menggunakan konsep daerah kritis ini. Jika hipotesis nol ditolak, otomatis nilai p kurang dari taraf signifikansi yang digunakan, dan berlaku sebaliknya. Penarikan kesimpulan dengan p-value juga sama: jika p-value kurang dari taraf signifikansi yang ditetapkan, maka hipotesis nol ditolak, jika tidak maka kita gagal menolak hipotesis nol tersebut.*"
   ]
  },
  {
   "cell_type": "markdown",
   "metadata": {
    "id": "sBkRcxNVb4ZF"
   },
   "source": [
    "**Menentukan Daerah Kritis**"
   ]
  },
  {
   "cell_type": "markdown",
   "metadata": {
    "id": "aIDiQEG9bxq1"
   },
   "source": [
    "Dari bagian pertama dapat diketahui bahwa jumlah sampel yang ada untuk pengujian ini adalah `n = 20`. Dengan menggunakan jumlah sampel ini, maka  akan didapatkan derajat kebebasan untuk pengujian ini, yaitu `df = n - 1 = 19`. Dengan `α = 0.05` dan `df = 19`, maka didapatkan bahwa daerah kritis dari pengecekan ini untuk t$_{α_/2}$ adalah `t > 2.09302` atau `t < -2.09302`."
   ]
  },
  {
   "cell_type": "code",
   "execution_count": 53,
   "metadata": {
    "id": "VI83KZkZSdDU"
   },
   "outputs": [],
   "source": [
    "def two_tailed_t_test(t_score, n_sample):\n",
    "  # Two-Tailed T-Test dengan α = 0.05, sehingga daerah kritis ada di range t < -2.09302 atau t > 2.09302.\n",
    "  if(t_score > 2.09302 or t_score < -2.09302):\n",
    "    print(\"Hipotesis nol ditolak karena nilai t masuk ke dalam critical region.\")\n",
    "  else:\n",
    "    print(\"Hipotesis nol gagal ditolak karena nilai t tidak masuk ke dalam critical region.\")\n",
    "  print(\"Nilai t-score yang dihasilkan adalah\", t_score)\n",
    "  print(\"P-Value yang dihasilkan untuk t-score tersebut adalah\", 2 * scipy.stats.t.sf(abs(t_score), n_sample - 1))"
   ]
  },
  {
   "cell_type": "markdown",
   "metadata": {
    "id": "pt5d2kXaSdDW"
   },
   "source": [
    "Mendapatkan nilai $\\bar{x}$, μ$_{0}$, dan σ untuk SumbuKecil"
   ]
  },
  {
   "cell_type": "code",
   "execution_count": 54,
   "metadata": {
    "id": "khpKe2ROSdDX"
   },
   "outputs": [],
   "source": [
    "x_bar = sk_first_20.mean()\n",
    "miu = 50\n",
    "std = sk_first_20.std()"
   ]
  },
  {
   "cell_type": "code",
   "execution_count": 55,
   "metadata": {
    "colab": {
     "base_uri": "https://localhost:8080/"
    },
    "id": "7Jky9N9HSdDY",
    "outputId": "dcaee088-1743-4f2d-e11f-d73f52dfdf3e"
   },
   "outputs": [
    {
     "name": "stdout",
     "output_type": "stream",
     "text": [
      "Hipotesis nol ditolak karena nilai t masuk ke dalam critical region.\n",
      "Nilai t-score yang dihasilkan adalah 6.478168916968894\n",
      "P-Value yang dihasilkan untuk t-score tersebut adalah 3.3020185644244998e-06\n"
     ]
    }
   ],
   "source": [
    "# 5. Menentukan Nilai t-score\n",
    "t_score = count_t_score(x_bar, miu, std, n_sample)\n",
    "\n",
    "# 6. Menentukan apabila hipotesis nol ditolak atau tidak bisa ditolak\n",
    "two_tailed_t_test(t_score, n_sample)"
   ]
  },
  {
   "cell_type": "markdown",
   "metadata": {
    "id": "Zev2ttMmSdDb"
   },
   "source": [
    "*Dari pengujian hipotesis, didapatkan bahwa nilai t-score masuk ke dalam daerah kritis sehingga $H_0$ ditolak untuk taraf signifikansi `α = 0.05`. Implikasi yang sama juga diberikan untuk nilai `p-value` di atas. Hal ini berarti bahwa hipotesis alternatif lebih mungkin terjadi pada data `Sumbu Kecil`, atau dalam kata lain data `Sumbu Kecil` memiliki rata-rata yang tidak sama dengan 50. Karena tes yang dilakukan berupa `two-tailed test` dan hasil perhitungan t-score jatuh ke `right-tail side` dari daerah kritis, maka dapat diduga dengan kuat bahwa rata-rata dari `Sumbu Kecil` lebih besar dari `50`.*"
   ]
  },
  {
   "cell_type": "markdown",
   "metadata": {
    "id": "3BtjSoPIyfAU"
   },
   "source": [
    "**Boxplot SumbuKecil**"
   ]
  },
  {
   "cell_type": "code",
   "execution_count": 56,
   "metadata": {
    "colab": {
     "base_uri": "https://localhost:8080/",
     "height": 0
    },
    "id": "QVkraA8cyfAW",
    "outputId": "482114ee-0337-4f2c-89f5-dd8b228d532e"
   },
   "outputs": [
    {
     "data": {
      "image/png": "[encoded data removed]",
      "text/plain": [
       "<Figure size 432x288 with 1 Axes>"
      ]
     },
     "metadata": {
      "needs_background": "light"
     },
     "output_type": "display_data"
    }
   ],
   "source": [
    "show_boxplot(\"SumbuKecil\", Gandum)"
   ]
  },
  {
   "cell_type": "markdown",
   "metadata": {
    "id": "JPCPq75eMdgB"
   },
   "source": [
    "### **Proporsi nilai Diameter yang lebih dari 85, adalah tidak sama dengan 15% ?**"
   ]
  },
  {
   "cell_type": "markdown",
   "metadata": {
    "id": "rkSXZszUD8Rr"
   },
   "source": [
    "**Mendapatkan data Diameter yang bernilai lebih dari 85**"
   ]
  },
  {
   "cell_type": "code",
   "execution_count": 57,
   "metadata": {
    "colab": {
     "base_uri": "https://localhost:8080/"
    },
    "id": "jkl8ffDHMm0W",
    "outputId": "e01fd6f5-ee8d-44bb-90bb-2d9194a90081"
   },
   "outputs": [
    {
     "name": "stdout",
     "output_type": "stream",
     "text": [
      "97\n",
      "500\n"
     ]
    }
   ],
   "source": [
    "# Data Diameter dengan nilai lebih dari 85\n",
    "bigger_d_than_85 = Gandum[\"Diameter\"].loc[Gandum[\"Diameter\"] > 85]\n",
    "bigger_than_85 = (bigger_d_than_85.shape)[0]\n",
    "n_sample = (Gandum[\"Diameter\"].shape)[0]\n",
    "\n",
    "print(bigger_than_85)\n",
    "print(n_sample)"
   ]
  },
  {
   "cell_type": "markdown",
   "metadata": {
    "id": "Qdy4Y13uFiCQ"
   },
   "source": [
    "*Karena sudah pasti tidak ada data yang null atau kosong, maka dapat disimpulkan bahwa untuk kolom `Diameter` pada dataset Gandum, terdapat sebanyak 97 data dari 500 data dengan nilai lebih dari 85 dan untuk pengujian hipotesis diasumsikan bahwa sampel data ini bersifat acak.*"
   ]
  },
  {
   "cell_type": "markdown",
   "metadata": {
    "id": "sIoxbnoOGcwv"
   },
   "source": [
    "**Melakukan Tes Hipotesis dengan Metode Tes Statistik Z**"
   ]
  },
  {
   "cell_type": "markdown",
   "metadata": {
    "id": "TtmwKnJdGcwx"
   },
   "source": [
    "1. Menentukan bahwa Null Hypothesis dari pengujian ini adalah proporsi nilai Diameter yang lebih dari 85 sama dengan 15%, yaitu H$_{0}$: `p = 0.15`.\n",
    "2. Hipotesis Alternatif yang ditentukan adalah bahwa proporsi data Diameter yang nilainya lebih dari 85 tidak sama dengan 15%, yaitu \n",
    "H$_{1}$: p $\\neq$ 0.15.\n",
    "3. Menentukan Tingkat Signifikansi yang digunakan, yaitu `α = 0.05`.\n",
    "4. Menentukan metode yang digunakan, yaitu `Tes Statistik Z`, karena data Diameter memiliki ukuran yang cukup besar `(n > 30)` dan sudah berdistribusi normal berdasarkan pengujian sebelumnya sehingga data ini sangat cocok diuji dengan Z-Test. Selain itu, untuk hipotesis tak berarah $H_{1}$ seperti pada nomor 2, maka digunakan `Two-Tailed Test`. Dengan `α = 0.05`, maka didapatkan bahwa daerah kritis dari pengecekan ini untuk z$_{α/2}$  adalah `z > 1.96` atau `z < -1.96`."
   ]
  },
  {
   "cell_type": "markdown",
   "metadata": {
    "id": "UBJSLm5cGcwy"
   },
   "source": [
    "*Penarikan kesimpulan dilakukan utamanya dengan menggunakan konsep daerah kritis ini. Jika hipotesis nol ditolak, otomatis nilai p kurang dari taraf signifikansi yang digunakan, dan berlaku sebaliknya. Penarikan kesimpulan dengan p-value juga sama: jika p-value kurang dari taraf signifikansi yang ditetapkan, maka hipotesis nol ditolak, jika tidak maka kita gagal menolak hipotesis nol tersebut.*"
   ]
  },
  {
   "cell_type": "markdown",
   "metadata": {
    "id": "mb9CZ61KFaZN"
   },
   "source": [
    "**Menentukan Nilai Z dari Proporsi**"
   ]
  },
  {
   "cell_type": "markdown",
   "metadata": {
    "id": "40-QmbV0Nm6e"
   },
   "source": [
    "*Pengujian dengan `Two-Tailed Test` bisa dilakukan dengan menggunakan prosedur yang telah dibuat pada bagian sebelumnya. Namun, perhitungan z-score untuk persoalan proporsi berbeda dengan persoalan mean sehingga kalkulasi nilai z akan menggunakan fungsi baru berikut.*"
   ]
  },
  {
   "cell_type": "code",
   "execution_count": 58,
   "metadata": {
    "id": "myL_4KQNN6uj"
   },
   "outputs": [],
   "source": [
    "def count_z_proportion(n_sample, x_from_n_sample, p_naught):\n",
    "  p_hat = x_from_n_sample / n_sample\n",
    "  q_naught = 1 - p_naught\n",
    "  return((p_hat - p_naught) / math.sqrt((p_naught * q_naught) / n_sample))"
   ]
  },
  {
   "cell_type": "markdown",
   "metadata": {
    "id": "QneJNE02P8Km"
   },
   "source": [
    "Mendapatkan nilai p$_{0}$ dan x untuk SumbuUtama"
   ]
  },
  {
   "cell_type": "code",
   "execution_count": 59,
   "metadata": {
    "id": "bBkWLT8uP8LF"
   },
   "outputs": [],
   "source": [
    "x_from_n_sample = bigger_than_85\n",
    "p_naught = 0.15"
   ]
  },
  {
   "cell_type": "code",
   "execution_count": 60,
   "metadata": {
    "colab": {
     "base_uri": "https://localhost:8080/"
    },
    "id": "XzSvf3wUP8LG",
    "outputId": "95321ea8-b6d8-4e79-e5bf-b294e6d125a6"
   },
   "outputs": [
    {
     "name": "stdout",
     "output_type": "stream",
     "text": [
      "Hipotesis nol ditolak karena nilai z masuk ke dalam critical region.\n",
      "Nilai z-score yang dihasilkan adalah 2.755386880774658\n",
      "P-Value yang dihasilkan untuk z-score tersebut adalah 0.005862277168409654\n"
     ]
    }
   ],
   "source": [
    "# 5. Menentukan Nilai z-score\n",
    "z_score = count_z_proportion(n_sample, x_from_n_sample, p_naught)\n",
    "\n",
    "# 6. Menentukan apabila hipotesis nol ditolak atau tidak bisa ditolak\n",
    "two_tailed_test(z_score)"
   ]
  },
  {
   "cell_type": "markdown",
   "metadata": {
    "id": "ru9dVV-KP8LJ"
   },
   "source": [
    "*Dari pengujian hipotesis, didapatkan bahwa nilai z-score masuk ke dalam daerah kritis sehingga $H_0$ ditolak untuk taraf signifikansi `α = 0.05`. Implikasi yang sama juga diberikan untuk nilai `p-value` di atas. Hal ini berarti bahwa hipotesis alternatif lebih mungkin terjadi pada data `Diameter`, atau dalam kata lain data `Diameter` yang bernilai lebih dari 85 memiliki proporsi yang tidak sama dengan 15%. Karena tes yang dilakukan berupa `two-tailed test` dan hasil perhitungan z-score jatuh ke `right-tail side` dari daerah kritis, maka dapat diduga dengan kuat bahwa proporsi data `Diameter` yang bernilai lebih dari 85 lebih besar dari `15%`.*"
   ]
  },
  {
   "cell_type": "markdown",
   "metadata": {
    "id": "v6-ZA7gNypuS"
   },
   "source": [
    "**Boxplot Diameter**"
   ]
  },
  {
   "cell_type": "code",
   "execution_count": 61,
   "metadata": {
    "colab": {
     "base_uri": "https://localhost:8080/",
     "height": 0
    },
    "id": "sXuC-ZU3ypuT",
    "outputId": "d56be7b3-5119-4403-8ecb-aa3b1d7ab406"
   },
   "outputs": [
    {
     "data": {
      "image/png": "[encoded data removed]",
      "text/plain": [
       "<Figure size 432x288 with 1 Axes>"
      ]
     },
     "metadata": {
      "needs_background": "light"
     },
     "output_type": "display_data"
    }
   ],
   "source": [
    "show_boxplot(\"Diameter\", Gandum)"
   ]
  },
  {
   "cell_type": "markdown",
   "metadata": {
    "id": "mGOkZOB1Mffz"
   },
   "source": [
    "### **Proporsi nilai Keliling yang kurang dari 100, adalah kurang dari 5% ?**"
   ]
  },
  {
   "cell_type": "markdown",
   "metadata": {
    "id": "zYrjsxSLS3Ak"
   },
   "source": [
    "**Mendapatkan data Keliling yang bernilai kurang dari 100**"
   ]
  },
  {
   "cell_type": "code",
   "execution_count": 62,
   "metadata": {
    "colab": {
     "base_uri": "https://localhost:8080/"
    },
    "id": "GyIknJfpS3A1",
    "outputId": "995d7128-57f0-4504-cb92-c2a611720de2"
   },
   "outputs": [
    {
     "name": "stdout",
     "output_type": "stream",
     "text": [
      "0\n",
      "500\n"
     ]
    }
   ],
   "source": [
    "# Data Keliling dengan nilai kurang dari 100\n",
    "less_k_than_100 = Gandum[\"Keliling\"].loc[Gandum[\"Keliling\"] < 100]\n",
    "less_than_100 = (less_k_than_100.shape)[0]\n",
    "n_sample = (Gandum[\"Keliling\"].shape)[0]\n",
    "\n",
    "print(less_than_100)\n",
    "print(n_sample)"
   ]
  },
  {
   "cell_type": "markdown",
   "metadata": {
    "id": "Xr5GN7ueS3A5"
   },
   "source": [
    "*Karena sudah pasti tidak ada data yang null atau kosong, maka dapat disimpulkan bahwa untuk kolom `Keliling` pada dataset Gandum, terdapat sebanyak 500 data dari 500 data dengan nilai lebih dari 100 dan untuk pengujian hipotesis diasumsikan bahwa sampel data ini bersifat acak.*"
   ]
  },
  {
   "cell_type": "markdown",
   "metadata": {
    "id": "shRlfjYkS3A7"
   },
   "source": [
    "**Melakukan Tes Hipotesis dengan Metode Tes Statistik Z**"
   ]
  },
  {
   "cell_type": "markdown",
   "metadata": {
    "id": "GvqR5kplS3A8"
   },
   "source": [
    "1. Menentukan bahwa Null Hypothesis dari pengujian ini adalah proporsi nilai Keliling yang kurang dari 100 sama dengan 5%, yaitu H$_{0}$: `p = 0.05`.\n",
    "2. Hipotesis Alternatif yang ditentukan adalah bahwa proporsi data Keliling yang bernilai kurang dari 100 adalah kurang dari 5%, yaitu H$_{1}$: `p < 0.05`.\n",
    "3. Menentukan Tingkat Signifikansi yang digunakan, yaitu `α = 0.05`.\n",
    "4. Menentukan metode yang digunakan, yaitu `Tes Statistik Z`, karena data Keliling memiliki ukuran yang cukup besar `(n > 30)`, sehingga meskipun Keliling tidak berdistribusi normal, metode tes statistik ini masih bisa dan cocok digunakan untuk menguji hipotesis tersebut. Selain itu, untuk hipotesis berarah $H_{1}$ seperti pada nomor 2, maka digunakan `One-Tailed Test`. Dengan `α = 0.05`, maka didapatkan bahwa daerah kritis dari pengecekan ini untuk z$_{α}$  adalah `z < -1.645`."
   ]
  },
  {
   "cell_type": "markdown",
   "metadata": {
    "id": "5pSyC8LNS3A9"
   },
   "source": [
    "*Penarikan kesimpulan dilakukan utamanya dengan menggunakan konsep daerah kritis ini. Jika hipotesis nol ditolak, otomatis nilai p kurang dari taraf signifikansi yang digunakan, dan berlaku sebaliknya. Penarikan kesimpulan dengan p-value juga sama: jika p-value kurang dari taraf signifikansi yang ditetapkan, maka hipotesis nol ditolak, jika tidak maka kita gagal menolak hipotesis nol tersebut.*"
   ]
  },
  {
   "cell_type": "markdown",
   "metadata": {
    "id": "EEPCk6o5S3A-"
   },
   "source": [
    "**Menentukan Nilai Z dari Proporsi**"
   ]
  },
  {
   "cell_type": "markdown",
   "metadata": {
    "id": "yNhJccEJS3A_"
   },
   "source": [
    "*Pengujian dengan `One-Tailed Test` tidak bisa dilakukan dengan menggunakan prosedur yang telah dibuat pada bagian sebelumnya, karena kedua pengujian ini memiliki daerah kritis yang berbeda. Daerah kritis yang berbeda ini dipengaruhi oleh arah yang dimiliki oleh Hipotesis Alternatif yang telah didefinisikan sebelumnya. Perhitungan z-score untuk persoalan proporsi ini bisa dilakukan dengan menggunakan fungsi yang telah didefinisikan untuk persoalan proporsi sebelumnya.*"
   ]
  },
  {
   "cell_type": "code",
   "execution_count": 63,
   "metadata": {
    "id": "xa84e8mnXtq-"
   },
   "outputs": [],
   "source": [
    "def one_tailed_test2(z_score):\n",
    "  # One-Tailed Test dengan α = 0.05, sehingga daerah kritis ada di range z < -1.645 berdasarkan tabel z.\n",
    "  if(z_score < -1.645):\n",
    "    print(\"Hipotesis nol ditolak karena nilai z masuk ke dalam critical region.\")\n",
    "  else:\n",
    "    print(\"Hipotesis nol gagal ditolak karena nilai z tidak masuk ke dalam critical region.\")\n",
    "  print(\"Nilai z-score yang dihasilkan adalah\", z_score)\n",
    "  print(\"P-Value yang dihasilkan untuk z-score tersebut adalah\", scipy.stats.norm.sf(abs(z_score)))"
   ]
  },
  {
   "cell_type": "markdown",
   "metadata": {
    "id": "KvB4XWpIS3BC"
   },
   "source": [
    "Mendapatkan nilai p$_{0}$ dan x untuk SumbuUtama"
   ]
  },
  {
   "cell_type": "code",
   "execution_count": 64,
   "metadata": {
    "id": "A_xpmMbaS3BC"
   },
   "outputs": [],
   "source": [
    "x_from_n_sample = less_than_100\n",
    "p_naught = 0.05"
   ]
  },
  {
   "cell_type": "code",
   "execution_count": 65,
   "metadata": {
    "colab": {
     "base_uri": "https://localhost:8080/"
    },
    "id": "H-2nQZK6S3BD",
    "outputId": "c5884892-f412-438f-9dd5-ae38275a04df"
   },
   "outputs": [
    {
     "name": "stdout",
     "output_type": "stream",
     "text": [
      "Hipotesis nol ditolak karena nilai z masuk ke dalam critical region.\n",
      "Nilai z-score yang dihasilkan adalah -5.129891760425771\n",
      "P-Value yang dihasilkan untuk z-score tersebut adalah 1.4495441414387716e-07\n"
     ]
    }
   ],
   "source": [
    "# 5. Menentukan Nilai z-score\n",
    "z_score = count_z_proportion(n_sample, x_from_n_sample, p_naught)\n",
    "\n",
    "# 6. Menentukan apabila hipotesis nol ditolak atau tidak bisa ditolak\n",
    "one_tailed_test2(z_score)"
   ]
  },
  {
   "cell_type": "markdown",
   "metadata": {
    "id": "vbc4e9zZS3BF"
   },
   "source": [
    "*Dari pengujian hipotesis, didapatkan bahwa nilai z-score masuk ke dalam daerah kritis sehingga $H_0$ ditolak untuk taraf signifikansi `α = 0.05`. Implikasi yang sama juga diberikan untuk nilai `p-value` di atas. Hal ini berarti bahwa hipotesis alternatif lebih mungkin terjadi pada data `Keliling`, atau dalam kata lain data `Keliling` yang bernilai kurang dari 100 memiliki proporsi yang kurang dari `5%`.*"
   ]
  },
  {
   "cell_type": "markdown",
   "metadata": {
    "id": "kjomzsiQyvQb"
   },
   "source": [
    "**Boxplot Keliling**"
   ]
  },
  {
   "cell_type": "code",
   "execution_count": 66,
   "metadata": {
    "colab": {
     "base_uri": "https://localhost:8080/",
     "height": 0
    },
    "id": "10gjHxpByvQd",
    "outputId": "8c32d2bc-a3db-442a-9190-49e54689d1bb"
   },
   "outputs": [
    {
     "data": {
      "image/png": "[encoded data removed]",
      "text/plain": [
       "<Figure size 432x288 with 1 Axes>"
      ]
     },
     "metadata": {
      "needs_background": "light"
     },
     "output_type": "display_data"
    }
   ],
   "source": [
    "show_boxplot(\"Keliling\", Gandum)"
   ]
  },
  {
   "cell_type": "markdown",
   "metadata": {
    "id": "njMzQpnVZv2I"
   },
   "source": [
    "# Nomor 5: Tes Hipotesis 2 Sampel"
   ]
  },
  {
   "cell_type": "code",
   "execution_count": 67,
   "metadata": {
    "id": "A2VMZKbjatKt"
   },
   "outputs": [],
   "source": [
    "def z_test(data1, data2, d0 = 0):\n",
    "  x1_bar = data1.mean()\n",
    "  x2_bar = data2.mean()\n",
    "  std1 = data1.std()\n",
    "  std2 = data2.std()\n",
    "  n1 = data1.shape[0]\n",
    "  n2 = data2.shape[0]\n",
    "\n",
    "  return ((x1_bar - x2_bar) - d0)/((((std1**2)/n1) + ((std2**2)/n2)) ** 0.5)"
   ]
  },
  {
   "cell_type": "markdown",
   "metadata": {
    "id": "Do7UY_8u8fhw"
   },
   "source": [
    "*Jika suatu hipotesis nol ditolak melalui pengujian hipotesis, maka dapat dikatakan bahwa hipotesis alternatif merupakan pernyataan yang benar. Hal ini dikarenakan nilai dari p-value yang dihasilkan secara tidak langsung menyatakan bahwa lebih condong dan memungkinkan bagi hipotesis alternatif untuk terjadi dibandingkan dengan hipotesis nol yang dinyatakan sebelumnya.*"
   ]
  },
  {
   "cell_type": "markdown",
   "metadata": {
    "id": "MSq67ME_SDU-"
   },
   "source": [
    "### **Data kolom AreaBulatan dibagi 2 sama rata: bagian awal dan bagian akhir kolom.Benarkah rata-rata kedua bagian tersebut sama?**"
   ]
  },
  {
   "cell_type": "markdown",
   "metadata": {
    "id": "Xx8lye5mVZFo"
   },
   "source": [
    "1. Null Hypotesis H$_{0}$ : μ$_{1}$ - μ$_{2}$ = 0\n",
    "2. Hipotesis alternatif H$_{1}$ : μ$_{1}$ - μ$_{2}$ $\\neq$ 0\n",
    "3. Tingkat signifikan alfa = 0.05\n",
    "4. **Uji statistik yang sesuai => Z test** karena data lebih dari 30 dan standar deviasi masing-masing dapat diketahui. Daerah kritisnya adalah Z < -Z$_{0.025}$ atau Z > Z$_{0.025}$ (Z < -1.96 atau Z > 1.96) karena merupakan `two-tailed test` yang disebabkan oleh hipotesis alternatif yang tidak berarah.\n"
   ]
  },
  {
   "cell_type": "code",
   "execution_count": 68,
   "metadata": {
    "colab": {
     "base_uri": "https://localhost:8080/"
    },
    "id": "xumm4p8NbqkY",
    "outputId": "4cd648e8-b62e-4e8c-864b-58b5f6d17e13"
   },
   "outputs": [
    {
     "name": "stdout",
     "output_type": "stream",
     "text": [
      "Hipotesis nol ditolak karena nilai z masuk ke dalam critical region.\n",
      "Nilai z-score yang dihasilkan adalah 17.013036648485464\n",
      "P-Value yang dihasilkan untuk z-score tersebut adalah 6.574024595618948e-65\n"
     ]
    }
   ],
   "source": [
    "data1 = Gandum.iloc[:int(n_sample/2)][\"AreaBulatan\"]\n",
    "data2 = Gandum.iloc[(int(n_sample/2)):][\"AreaBulatan\"]\n",
    "z = z_test(data1, data2)\n",
    "two_tailed_test(z)"
   ]
  },
  {
   "cell_type": "markdown",
   "metadata": {
    "id": "f4yUL8FZfPNq"
   },
   "source": [
    "5. Nilai z = 16.956838413457984, p-value = 3.287012297809474e-65\n",
    "6. Karena nilai z ada di dalam daerah kritis maka **hipotesis null ditolak** dan **hipotesis alternatif diterima** sehingga dapat dikatakan bahwa **rata-rata kedua bagian awal dan akhir untuk AreaBulatan tersebut tidak sama.**\n",
    "\n"
   ]
  },
  {
   "cell_type": "code",
   "execution_count": 69,
   "metadata": {
    "id": "RuCU_FoNdhNO"
   },
   "outputs": [],
   "source": [
    "data1.name = \"Awal\"\n",
    "data2.name = \"Akhir\"\n",
    "area_bulatan = pd.concat([data1, data2.reset_index()], axis = 1)\n",
    "area_bulatan.drop(columns= ['index'], axis = 1, inplace = True)"
   ]
  },
  {
   "cell_type": "code",
   "execution_count": 70,
   "metadata": {
    "colab": {
     "base_uri": "https://localhost:8080/",
     "height": 0
    },
    "id": "YDMmxw6qVuQ7",
    "outputId": "ad0e4cda-2234-49e5-c663-92217eebb3a3"
   },
   "outputs": [
    {
     "data": {
      "image/png": "[encoded data removed]",
      "text/plain": [
       "<Figure size 432x288 with 1 Axes>"
      ]
     },
     "metadata": {
      "needs_background": "light"
     },
     "output_type": "display_data"
    }
   ],
   "source": [
    "area_bulatan.boxplot(column = [\"Awal\", \"Akhir\"])\n",
    "plt.title(\"Area Bulatan\")\n",
    "plt.show()"
   ]
  },
  {
   "cell_type": "markdown",
   "metadata": {
    "id": "cUI-XB2MVAbS"
   },
   "source": [
    "### **Data kolom Kadar Air dibagi 2 sama rata: bagian awal dan bagian akhir kolom. Benarkah rata-rata bagian awal lebih besar dari pada bagian akhir sebesar 0.2?**"
   ]
  },
  {
   "cell_type": "markdown",
   "metadata": {
    "id": "xoy7Q1pfkaRy"
   },
   "source": [
    "1. Null Hypotesis H$_{0}$ : μ$_{1}$ - μ$_{2}$ = 0.2\n",
    "2. Hipotesis alternatif H$_{1}$ : μ$_{1}$ - μ$_{2}$ > 0.2\n",
    "3. Tingkat signifikan alfa = 0.05\n",
    "4. Uji statistik yang sesuai => Z test karena data lebih dari 30 dan standar deviasi masing-masing dapat diketahui. Daerah kritisnya adalah Z > Z$_{0.05}$ (Z > 1.645) karena merupakan `one-tailed test` yang disebabkan oleh hipotesis alternatif berarah."
   ]
  },
  {
   "cell_type": "code",
   "execution_count": 71,
   "metadata": {
    "colab": {
     "base_uri": "https://localhost:8080/"
    },
    "id": "hT05pTR0k79w",
    "outputId": "b2bdb063-530a-4460-a54f-12d99d429689"
   },
   "outputs": [
    {
     "name": "stdout",
     "output_type": "stream",
     "text": [
      "Hipotesis nol gagal ditolak karena nilai z tidak masuk ke dalam critical region.\n",
      "Nilai z-score yang dihasilkan adalah -26.903444249744943\n",
      "P-Value yang dihasilkan untuk z-score tersebut adalah 1.0008041428013539e-159\n"
     ]
    }
   ],
   "source": [
    "data1 = Gandum.iloc[:int(n_sample/2), :][\"KadarAir\"]\n",
    "data2 = Gandum.iloc[(int(n_sample/2)):, :][\"KadarAir\"]\n",
    "z = z_test(data1, data2, 0.2)\n",
    "one_tailed_test(z)"
   ]
  },
  {
   "cell_type": "markdown",
   "metadata": {
    "id": "00xAaRzTlJNG"
   },
   "source": [
    "5. Nilai z = -26.834579447472983, p-value = 1.0008041428008981e-159\n",
    "6. Karena nilai z tidak di dalam daerah kritis maka hipotesis null gagal ditolak dan secara kasar dapat dikatakan bahwa pernyataan hipotesis mengenai rata-rata bagian awal lebih besar daripada bagian akhir untuk KadarAir sebesar 0.2 adalah benar."
   ]
  },
  {
   "cell_type": "code",
   "execution_count": 72,
   "metadata": {
    "id": "OcQC088QmJIb"
   },
   "outputs": [],
   "source": [
    "data1.name = \"Awal\"\n",
    "data2.name = \"Akhir\"\n",
    "kadar_air = pd.concat([data1, data2.reset_index()], axis = 1)\n",
    "kadar_air.drop(columns= ['index'], axis = 1, inplace = True)"
   ]
  },
  {
   "cell_type": "code",
   "execution_count": 73,
   "metadata": {
    "colab": {
     "base_uri": "https://localhost:8080/",
     "height": 0
    },
    "id": "ki2U48yFmdTS",
    "outputId": "1b3b5bcc-9142-4c0d-bea0-4c0b1140711e"
   },
   "outputs": [
    {
     "data": {
      "image/png": "[encoded data removed]",
      "text/plain": [
       "<Figure size 432x288 with 1 Axes>"
      ]
     },
     "metadata": {
      "needs_background": "light"
     },
     "output_type": "display_data"
    }
   ],
   "source": [
    "kadar_air.boxplot(column = [\"Awal\", \"Akhir\"])\n",
    "plt.title(\"Kadar Air\")\n",
    "plt.show()"
   ]
  },
  {
   "cell_type": "markdown",
   "metadata": {
    "id": "CKGowQokVA2s"
   },
   "source": [
    "### **Rata-rata 20 baris pertama kolom Bulatan sama dengan 20 baris terakhirnya?**"
   ]
  },
  {
   "cell_type": "markdown",
   "metadata": {
    "id": "eHuxMEePmJ-e"
   },
   "source": [
    "1. Null Hypotesis H$_{0}$ : μ$_{1}$ - μ$_{2}$ = 0\n",
    "2. Hipotesis alternatif H$_{1}$ : μ$_{1}$ - μ$_{2}$ $\\neq$ 0\n",
    "3. Tingkat signifikan alfa = 0.05\n",
    "4. Uji statistik yang sesuai => Z test karena data lebih dari 30 dan standar deviasi masing-masing dapat diketahui. Daerah kritisnya adalah Z < -Z$_{0.025}$ atau Z > Z$_{0.025}$ (Z < -1.96 atau Z > 1.96) karena merupakan `two-tailed test` yang disebabkan oleh hipotesis alternatif berarah pada langkah kedua.\n"
   ]
  },
  {
   "cell_type": "code",
   "execution_count": 74,
   "metadata": {
    "colab": {
     "base_uri": "https://localhost:8080/"
    },
    "id": "RAGM6Ql8mHTZ",
    "outputId": "2def2c29-3c51-4e52-dd1b-d9a2339b973e"
   },
   "outputs": [
    {
     "name": "stdout",
     "output_type": "stream",
     "text": [
      "Hipotesis nol ditolak karena nilai z masuk ke dalam critical region.\n",
      "Nilai z-score yang dihasilkan adalah -3.3792268633123648\n",
      "P-Value yang dihasilkan untuk z-score tersebut adalah 0.0007268999745855888\n"
     ]
    }
   ],
   "source": [
    "data1 = Gandum.iloc[:20][\"Bulatan\"]\n",
    "data2 = Gandum.iloc[-20:][\"Bulatan\"]\n",
    "z = z_test(data1, data2)\n",
    "two_tailed_test(z)"
   ]
  },
  {
   "cell_type": "markdown",
   "metadata": {
    "id": "GlMGLdy-nd2y"
   },
   "source": [
    "5. Nilai z = -3.3792268633124025, p-value = 0.0007268999745854886\n",
    "6. Karena nilai z ada di dalam daerah kritis dan p-value < 0.05 maka hipotesis null ditolak dan hipotesis alternatif diterima sehingga dapat dikatakan bahwa pernyataan mengenai rata-rata 20 baris pertama dengan 20 baris terakhir tidak sama adalah benar."
   ]
  },
  {
   "cell_type": "code",
   "execution_count": 75,
   "metadata": {
    "id": "GqDYbpzHmzju"
   },
   "outputs": [],
   "source": [
    "data1.name = \"20_baris_awal\"\n",
    "data2.name = \"20_baris_akhir\"\n",
    "bulatan = pd.concat([data1, data2.reset_index()], axis = 1)\n",
    "bulatan.drop(columns= ['index'], axis = 1, inplace = True)"
   ]
  },
  {
   "cell_type": "code",
   "execution_count": 76,
   "metadata": {
    "colab": {
     "base_uri": "https://localhost:8080/",
     "height": 0
    },
    "id": "rDDgheaBnFXL",
    "outputId": "1b3766fe-82bb-4dbd-d7e8-5cfae491bd20"
   },
   "outputs": [
    {
     "data": {
      "image/png": "[encoded data removed]",
      "text/plain": [
       "<Figure size 432x288 with 1 Axes>"
      ]
     },
     "metadata": {
      "needs_background": "light"
     },
     "output_type": "display_data"
    }
   ],
   "source": [
    "bulatan.boxplot(column = [\"20_baris_awal\", \"20_baris_akhir\"])\n",
    "plt.title(\"Bulatan\")\n",
    "plt.show()"
   ]
  },
  {
   "cell_type": "markdown",
   "metadata": {
    "id": "6q47v3RbVA-o"
   },
   "source": [
    "### **Proporsi nilai bagian awal Ransum yang lebih dari 2, adalah lebih besar daripada, proporsi nilai yang sama di bagian akhir Ransum?**"
   ]
  },
  {
   "cell_type": "markdown",
   "metadata": {
    "id": "aSwfLx4opZOT"
   },
   "source": [
    "1. Null Hypotesis H$_{0}$ : p$_{1}$ - p$_{2}$ = 0\n",
    "2. Hipotesis alternatif H$_{1}$ : p$_{1}$ - p$_{2}$ $\\gt$ 0\n",
    "3. Tingkat signifikan alfa = 0.05\n",
    "4. Uji statistik yang sesuai => Z test karena data lebih dari 30 dan standar deviasi masing-masing dapat diketahui. Daerah kritisnya adalah Z > Z$_{0.05}$ (Z > 1.645)"
   ]
  },
  {
   "cell_type": "code",
   "execution_count": 77,
   "metadata": {
    "colab": {
     "base_uri": "https://localhost:8080/"
    },
    "id": "HYTjUsWl3TOX",
    "outputId": "ea029e30-f834-49ea-8d13-c0b4fecf6777"
   },
   "outputs": [
    {
     "name": "stdout",
     "output_type": "stream",
     "text": [
      "Hipotesis nol ditolak karena nilai z masuk ke dalam critical region.\n",
      "Nilai z-score yang dihasilkan adalah 10.659836807605831\n",
      "P-Value yang dihasilkan untuk z-score tersebut adalah 7.843623083814553e-27\n"
     ]
    }
   ],
   "source": [
    "data1 = (Gandum[\"Ransum\"][:int(n_sample/2)]).loc[lambda x: x > 2]\n",
    "data2 = (Gandum[\"Ransum\"][int(n_sample/2):]).loc[lambda x: x > 2]\n",
    "p1 = len(data1) / int(n_sample / 2)\n",
    "p2 = len(data2) / int(n_sample / 2)\n",
    "pTotal = (len(data1) + len(data2)) / 500\n",
    "\n",
    "zValue = (p1 - p2) / ((pTotal * (1 - pTotal) * (1 / len(data1) + 1 / len(data2))))**0.5\n",
    "\n",
    "one_tailed_test(zValue)"
   ]
  },
  {
   "cell_type": "markdown",
   "metadata": {
    "id": "hjg_wrBEFYWo"
   },
   "source": [
    "5. Nilai z = 10.659836807605831, Nilai p = 7.843623083814553e-27\n",
    "6. Karena nilai z berada di daerah kritis dan p-value < 0.05 maka hipotesis nol ditolak dan hipotesis alternatif diterima sehingga secara kasar dapat dikatakan bahwa proporsi nilai bagian awal Ransum yang lebih dari 2 lebih besar daripada proporsi nilai yang sama di bagian akhir ransum."
   ]
  },
  {
   "cell_type": "code",
   "execution_count": 78,
   "metadata": {
    "id": "F5Ym8sUfLfhC"
   },
   "outputs": [],
   "source": [
    "data1.name = \"Awal\"\n",
    "data2.name = \"Akhir\"\n",
    "ransum = pd.concat([data1, data2.reset_index()], axis = 1)\n",
    "ransum.drop(columns= ['index'], axis = 1, inplace = True)"
   ]
  },
  {
   "cell_type": "code",
   "execution_count": 79,
   "metadata": {
    "colab": {
     "base_uri": "https://localhost:8080/",
     "height": 0
    },
    "id": "zKCNI6DOMiZq",
    "outputId": "606fb51f-b161-4e42-d0ba-45f89ed360b1"
   },
   "outputs": [
    {
     "data": {
      "image/png": "[encoded data removed]",
      "text/plain": [
       "<Figure size 432x288 with 1 Axes>"
      ]
     },
     "metadata": {
      "needs_background": "light"
     },
     "output_type": "display_data"
    }
   ],
   "source": [
    "np.warnings.filterwarnings('ignore', category=np.VisibleDeprecationWarning)\n",
    "ransum.boxplot(column = [\"Awal\", \"Akhir\"])\n",
    "plt.title(\"Ransum\")\n",
    "plt.show()"
   ]
  },
  {
   "cell_type": "markdown",
   "metadata": {
    "id": "WJkHRjJWnkTa"
   },
   "source": [
    "### **Bagian awal kolom Diameter memiliki variansi yang sama dengan bagian akhirnya**"
   ]
  },
  {
   "cell_type": "markdown",
   "metadata": {
    "id": "Yp9NBCK6rVao"
   },
   "source": [
    "1. Null Hypotesis H$_{0}$ : ${σ_1^2}$ = ${σ_2^2}$ \n",
    "2. Hipotesis alternatif H$_{1}$ : ${σ_1^2}$ ≠ ${σ_2^2}$\n",
    "3. Tingkat signifikan alfa = 0.05\n",
    "4. Uji statistik yang sesuai adalah uji statistik distribusi f. Daerah kritis dari uji statistik ini adalah f < f$_{1 - α / 2}$(v1, v2) atau f > f$_{α / 2}$(v1, v2) sesuai dengan null hypotesis dan hipotesis alternatifnya. v1 dan v2 disini juga bernilai sama maka dapat dibilang bahwa daerah kritisnya adalah f < f$_{0.975}$(250, 250) atau f > f$_{0.025}$(250, 250). Karena data sangat banyak maka kita bisa aproksimasi nilai f tersebut menjadi f$_{0.025}$(250, 250) dan f$_{0.975}$(250, 250) menjadi f$_{0.025}$(∞, ∞) dan f$_{0.975}$(∞, ∞) dimana masing\" nilainya adalah 1. Jadi daerah kritis nya adalah f > 1 atau f < 1."
   ]
  },
  {
   "cell_type": "code",
   "execution_count": 80,
   "metadata": {
    "colab": {
     "base_uri": "https://localhost:8080/"
    },
    "id": "x3lN8oOuIm71",
    "outputId": "c559f3ae-1f89-489d-f371-c627816d93a0"
   },
   "outputs": [
    {
     "name": "stdout",
     "output_type": "stream",
     "text": [
      "F-Score yang dihasilkan adalah 1.083878022042188\n",
      "P-Value yang dihasilkan untuk f-score tersebut adalah 0.26278959201894364\n"
     ]
    }
   ],
   "source": [
    "data1 = Gandum[\"Diameter\"][:int(n_sample/2)]\n",
    "data2 = Gandum[\"Diameter\"][int(n_sample/2):]\n",
    "varians_data1 = (data1.std())**2\n",
    "varians_data2 = (data2.std())**2\n",
    "f = varians_data1 / varians_data2\n",
    "print(\"F-Score yang dihasilkan adalah\", f)\n",
    "print(\"P-Value yang dihasilkan untuk f-score tersebut adalah\", scipy.stats.f.sf(f, 249, 249))"
   ]
  },
  {
   "cell_type": "markdown",
   "metadata": {
    "id": "Ii4q3-i3KTgR"
   },
   "source": [
    "5. Nilai f = 1.083878022042188 dan P-Value = 0.26278959201894364.\n",
    "6. Karena nilai f-score masuk ke dalam daerah kritis maka hipotesis null ditolak sehingga secara kasar pernyataan hipotesis alternatif bahwa bagian awal kolom diameter memiliki variansi yang tidak sama dengan bagian akhirnya dapat dianggap benar."
   ]
  },
  {
   "cell_type": "code",
   "execution_count": 81,
   "metadata": {
    "id": "43ViQEQYMuFX"
   },
   "outputs": [],
   "source": [
    "data1.name = \"Awal\"\n",
    "data2.name = \"Akhir\"\n",
    "diameter = pd.concat([data1, data2.reset_index()], axis = 1)\n",
    "diameter.drop(columns= ['index'], axis = 1, inplace = True)"
   ]
  },
  {
   "cell_type": "code",
   "execution_count": 82,
   "metadata": {
    "colab": {
     "base_uri": "https://localhost:8080/",
     "height": 0
    },
    "id": "yjqD3YgPM-JB",
    "outputId": "a6353e3b-fd6a-4267-b17d-2b3fbe455775"
   },
   "outputs": [
    {
     "data": {
      "image/png": "[encoded data removed]",
      "text/plain": [
       "<Figure size 432x288 with 1 Axes>"
      ]
     },
     "metadata": {
      "needs_background": "light"
     },
     "output_type": "display_data"
    }
   ],
   "source": [
    "diameter.boxplot(column = [\"Awal\", \"Akhir\"])\n",
    "plt.title(\"Diameter\")\n",
    "plt.show()"
   ]
  },
  {
   "cell_type": "markdown",
   "metadata": {
    "id": "RDuBAzqnadeQ"
   },
   "source": [
    "# Nomor 6: *Correlation Test*"
   ]
  },
  {
   "cell_type": "markdown",
   "metadata": {
    "id": "lJBwDkBJgEkX"
   },
   "source": [
    "### **Tes Hipotesis untuk Mengecek Korelasi**"
   ]
  },
  {
   "cell_type": "code",
   "execution_count": 83,
   "metadata": {
    "colab": {
     "base_uri": "https://localhost:8080/"
    },
    "id": "BOfzJ5XRnDDD",
    "outputId": "e6441bba-17ea-40b2-9bfa-adbaf56ebc4c"
   },
   "outputs": [
    {
     "data": {
      "text/plain": [
       "(500, 12)"
      ]
     },
     "execution_count": 83,
     "metadata": {},
     "output_type": "execute_result"
    }
   ],
   "source": [
    "Gandum.shape"
   ]
  },
  {
   "cell_type": "code",
   "execution_count": 84,
   "metadata": {
    "colab": {
     "base_uri": "https://localhost:8080/"
    },
    "id": "RvDBg2yYmrtr",
    "outputId": "b9a3e61a-8f8e-4d04-fa5e-9088b01fc4e1"
   },
   "outputs": [
    {
     "data": {
      "text/plain": [
       "id             False\n",
       "Daerah         False\n",
       "SumbuUtama     False\n",
       "SumbuKecil     False\n",
       "Keunikan       False\n",
       "AreaBulatan    False\n",
       "Diameter       False\n",
       "KadarAir       False\n",
       "Keliling       False\n",
       "Bulatan        False\n",
       "Ransum         False\n",
       "Kelas          False\n",
       "dtype: bool"
      ]
     },
     "execution_count": 84,
     "metadata": {},
     "output_type": "execute_result"
    }
   ],
   "source": [
    "Gandum.isnull().any()"
   ]
  },
  {
   "cell_type": "markdown",
   "metadata": {
    "id": "DhG9gqp4gXbM"
   },
   "source": [
    "Untuk semua data yang ada di dalam dataset `Gandum`, dapat diketahui bahwa semua kolom berisikan masing-masing 500 buah data. Untuk setiap kolom yang ada akan berlaku pengujian hipotesis berikut untuk mengecek apabila ada atau tidaknya korelasi antara kolom non-target dengan kolom target `(Kelas)`.\n",
    "\n",
    "1. Menentukan bahwa Null Hypothesis dari pengujian ini adalah data pertama yang selanjutnya merupakan fitur-fitur non-target, dan data kedua yang merupakan fitur target, tidak memiliki korelasi linear, yaitu H$_{0}$: `ρ = 0`.\n",
    "2. Hipotesis Alternatif yang ditentukan adalah bahwa data pertama yang selanjutnya merupakan fitur-fitur non-target, dan data kedua yang merupakan fitur target, memiliki korelasi linear, yaitu H$_{1}$: $ρ \\neq 0$.\n",
    "3. Menentukan Tingkat Signifikansi yang digunakan, yaitu `α = 0.05`.\n",
    "4. Menentukan metode yang digunakan, yaitu `Tes Statistik T`, untuk menguji sebuah korelasi antara dua buah variabel yang dalam hal ini diuji secara umum, ada atau tidak. Untuk hipotesis tidak berarah H$_{1}$ seperti yang telah didefinisikan pada nomor 2, maka digunakan `Two-Tailed Test`."
   ]
  },
  {
   "cell_type": "markdown",
   "metadata": {
    "id": "96nob35ilcU6"
   },
   "source": [
    "Dari bagian pertama dapat diketahui bahwa jumlah sampel yang ada untuk pengujian ini adalah `n = 500`. Dengan menggunakan jumlah populasi sebagai sampel ini, maka  akan didapatkan derajat kebebasan untuk pengujian korelasi yang berbeda dengan derajat kebebasan pada pengujian hipotesis satu sampel, yaitu `df = n - 2 = 498`. Hal ini dikarenakan korelasi berkaitan erat dengan dua titik yang bisa membentuk garis dan menggambarkan sebuah korelasi, sehingga derajat kebebasan didapat dengan mengurangi jumlah sampel dengan 2. Dengan `α = 0.05` dan `df = 498`, maka didapatkan bahwa daerah kritis dari pengecekan ini untuk t$_{α_/2}$ adalah `t > 1.964739` atau `t < -1.964739`."
   ]
  },
  {
   "cell_type": "markdown",
   "metadata": {
    "id": "faALoDJogXbu"
   },
   "source": [
    "*Penarikan kesimpulan dilakukan utamanya dengan menggunakan konsep daerah kritis ini. Jika hipotesis nol ditolak, otomatis nilai p kurang dari taraf signifikansi yang digunakan, dan berlaku sebaliknya. Penarikan kesimpulan dengan p-value juga sama: jika p-value kurang dari taraf signifikansi yang ditetapkan, maka hipotesis nol ditolak, jika tidak maka kita gagal menolak hipotesis nol tersebut.*"
   ]
  },
  {
   "cell_type": "markdown",
   "metadata": {
    "id": "HA9aXkd0ehv9"
   },
   "source": [
    "**Menghitung Nilai Koefisien r**"
   ]
  },
  {
   "cell_type": "code",
   "execution_count": 85,
   "metadata": {
    "id": "KmhwrVwiW7vr"
   },
   "outputs": [],
   "source": [
    "# Calculate r-score\n",
    "def r_score(data1, data2):\n",
    "  # Convert to list for easier computation\n",
    "  # Data 1 -> Features, Data 2 -> Target\n",
    "  data1_list = list(data1)\n",
    "  data2_list = list(data2)\n",
    "  n_of_both = len(data1_list) # n of data1 = n of data2\n",
    "\n",
    "  # Mean of data 1 and data 2\n",
    "  mean_of_d1 = sum(data1_list) / n_of_both\n",
    "  mean_of_d2 = sum(data2_list) / n_of_both\n",
    "\n",
    "  # Numerator of the Equation. \n",
    "  # Refer to Walpole 432: Correlation Coefficient\n",
    "  num = 0\n",
    "  for idx in range(n_of_both):\n",
    "    num += (data1_list[idx] - mean_of_d1) * (data2_list[idx] - mean_of_d2)\n",
    "  \n",
    "  # Denominator of the Equation: Sum of Squares\n",
    "  # Refer to Walpole 432: Correlation Coefficient\n",
    "  Sxx = 0\n",
    "  Syy = 0\n",
    "  for data in data1_list:\n",
    "    Sxx += (data - mean_of_d1)**2\n",
    "  for data in data2_list:\n",
    "    Syy += (data - mean_of_d2)**2\n",
    "\n",
    "  # Get the r-score\n",
    "  # Refer to Walpole 432: Correlation Coefficient\n",
    "  return num / math.sqrt(Sxx * Syy)"
   ]
  },
  {
   "cell_type": "markdown",
   "metadata": {
    "id": "OnQe1oQafojc"
   },
   "source": [
    "**Menghitung Nilai t Berdasarkan Koefisien r**"
   ]
  },
  {
   "cell_type": "code",
   "execution_count": 86,
   "metadata": {
    "id": "hI4evYzebnpL"
   },
   "outputs": [],
   "source": [
    "def calc_t_score(r_score, n_sample):\n",
    "  return (r_score * math.sqrt(n_sample - 2)) / math.sqrt(1 - r_score ** 2)"
   ]
  },
  {
   "cell_type": "markdown",
   "metadata": {
    "id": "nLkpQQNYfvul"
   },
   "source": [
    "**Melakukan *Correlation Test***"
   ]
  },
  {
   "cell_type": "code",
   "execution_count": 87,
   "metadata": {
    "id": "WcXdjUG7cV8s"
   },
   "outputs": [],
   "source": [
    "def pearson_correlation_test(data1, data2):\n",
    "  r_value = r_score(data1, data2)\n",
    "  n_sample = len(list(data1))\n",
    "\n",
    "  # 5. Menentukan Nilai t-score\n",
    "  t_score = calc_t_score(r_value, n_sample)\n",
    "\n",
    "  # Two-Tailed T-Test dengan α = 0.05 dan df = 498, sehingga daerah kritis ada di range t > 1.964739 atau t < -1.964739.\n",
    "  # 6. Menentukan apabila hipotesis nol ditolak atau tidak bisa ditolak\n",
    "  if(t_score > 1.964739 or t_score < -1.964739):\n",
    "    print(\"Hipotesis nol ditolak karena nilai t masuk ke dalam critical region.\")\n",
    "  else:\n",
    "    print(\"Hipotesis nol gagal ditolak karena nilai t tidak masuk ke dalam critical region.\")\n",
    "  print(\"Nilai t-score yang dihasilkan adalah\", t_score)\n",
    "  print(\"P-Value yang dihasilkan untuk t-score tersebut adalah\", 2 * scipy.stats.t.sf(abs(t_score), n_sample - 2))"
   ]
  },
  {
   "cell_type": "markdown",
   "metadata": {
    "id": "9Cdw13Jij6VD"
   },
   "source": [
    "### **Menampilkan *Scatter Plot* untuk Suatu Data**"
   ]
  },
  {
   "cell_type": "code",
   "execution_count": 88,
   "metadata": {
    "id": "0LZiNAFSj5o9"
   },
   "outputs": [],
   "source": [
    "def draw_scatter_plot(feature, target, data):\n",
    "  sns.set(rc={'figure.figsize':(5, 5)})\n",
    "  scatter = sns.scatterplot(x = target, y = feature, hue = target, data = data)\n",
    "  plt.tick_params(\n",
    "    axis='x',          # changes apply to the x-axis\n",
    "    which='both',      # both major and minor ticks are affected\n",
    "    bottom=False,      # ticks along the bottom edge are off\n",
    "    top=False,         # ticks along the top edge are off\n",
    "    labelbottom=False)\n",
    "  plt.title(\"Scatter Plot %s - %s\" %(feature.name, target.name))\n",
    "  plt.show()"
   ]
  },
  {
   "cell_type": "markdown",
   "metadata": {
    "id": "ejlEEvGhvLSV"
   },
   "source": [
    "### **Analisis Korelasi Kolom Non-Target dan Kolom Target**"
   ]
  },
  {
   "cell_type": "markdown",
   "metadata": {
    "id": "e-rE9SHGizy5"
   },
   "source": [
    "**Kolom *Daerah***"
   ]
  },
  {
   "cell_type": "code",
   "execution_count": 89,
   "metadata": {
    "colab": {
     "base_uri": "https://localhost:8080/"
    },
    "id": "eDlzN18royOC",
    "outputId": "cdf955e8-7464-4c5d-e0ca-94f2edc79a9e"
   },
   "outputs": [
    {
     "name": "stdout",
     "output_type": "stream",
     "text": [
      "Hipotesis nol ditolak karena nilai t masuk ke dalam critical region.\n",
      "Nilai t-score yang dihasilkan adalah -16.857115233256664\n",
      "P-Value yang dihasilkan untuk t-score tersebut adalah 8.925696449467643e-51\n"
     ]
    }
   ],
   "source": [
    "data1 = Gandum[\"Daerah\"]\n",
    "data2 = Gandum[\"Kelas\"]\n",
    "pearson_correlation_test(data1, data2)"
   ]
  },
  {
   "cell_type": "markdown",
   "metadata": {
    "id": "SJzw7JSSpmMl"
   },
   "source": [
    "*Karena $H_{0}$ ditolak, maka berarti bahwa kolom `Daerah` memiliki korelasi dengan kolom `Kelas`. Karena pengujian dilakukan dengan menggunakan `Two-Tailed Test` dan nilai dari t-score masuk ke dalam daerah kritis pada `Left-Tail`, maka kita dapat menduga bahwa korelasi yang dimiliki antara kedua kolom tersebut merupakan korelasi linear berbanding terbalik. Hal ini dapat dilihat pada visualisasi kedua data pada `Scatter Plot` berikut.*"
   ]
  },
  {
   "cell_type": "code",
   "execution_count": 90,
   "metadata": {
    "colab": {
     "base_uri": "https://localhost:8080/",
     "height": 0
    },
    "id": "5Y8bDWJ6n3rF",
    "outputId": "9f7a9f1b-ca2d-48da-a399-a1f73a230742"
   },
   "outputs": [
    {
     "data": {
      "image/png": "[encoded data removed]",
      "text/plain": [
       "<Figure size 360x360 with 1 Axes>"
      ]
     },
     "metadata": {},
     "output_type": "display_data"
    }
   ],
   "source": [
    "draw_scatter_plot(Gandum[\"Daerah\"], Gandum[\"Kelas\"], Gandum)"
   ]
  },
  {
   "cell_type": "markdown",
   "metadata": {
    "id": "A2H9O_vrizzJ"
   },
   "source": [
    "**Kolom *SumbuUtama***"
   ]
  },
  {
   "cell_type": "code",
   "execution_count": 91,
   "metadata": {
    "colab": {
     "base_uri": "https://localhost:8080/"
    },
    "id": "kDUNtmfurhjS",
    "outputId": "9cd1567d-edad-4279-dcdd-955af2685c52"
   },
   "outputs": [
    {
     "name": "stdout",
     "output_type": "stream",
     "text": [
      "Hipotesis nol ditolak karena nilai t masuk ke dalam critical region.\n",
      "Nilai t-score yang dihasilkan adalah -22.69848342474694\n",
      "P-Value yang dihasilkan untuk t-score tersebut adalah 7.742407802528421e-79\n"
     ]
    }
   ],
   "source": [
    "data1 = Gandum[\"SumbuUtama\"]\n",
    "data2 = Gandum[\"Kelas\"]\n",
    "pearson_correlation_test(data1, data2)"
   ]
  },
  {
   "cell_type": "markdown",
   "metadata": {
    "id": "2WDfMDq9r59Y"
   },
   "source": [
    "*Karena $H_{0}$ ditolak, maka berarti bahwa kolom `SumbuUtama` memiliki korelasi dengan kolom `Kelas`. Karena pengujian dilakukan dengan menggunakan `Two-Tailed Test` dan nilai dari t-score masuk ke dalam daerah kritis pada `Left-Tail`, maka kita dapat menduga bahwa korelasi yang dimiliki antara kedua kolom tersebut merupakan korelasi linear berbanding terbalik. Hal ini dapat dilihat pada visualisasi kedua data pada `Scatter Plot` berikut.*"
   ]
  },
  {
   "cell_type": "code",
   "execution_count": 92,
   "metadata": {
    "colab": {
     "base_uri": "https://localhost:8080/",
     "height": 0
    },
    "id": "jBhxGjSppr5n",
    "outputId": "b6664b64-c857-41d5-f4bf-cc81167d2d22"
   },
   "outputs": [
    {
     "data": {
      "image/png": "[encoded data removed]",
      "text/plain": [
       "<Figure size 360x360 with 1 Axes>"
      ]
     },
     "metadata": {},
     "output_type": "display_data"
    }
   ],
   "source": [
    "draw_scatter_plot(Gandum[\"SumbuUtama\"], Gandum[\"Kelas\"], Gandum)"
   ]
  },
  {
   "cell_type": "markdown",
   "metadata": {
    "id": "sGd0PpXqizzL"
   },
   "source": [
    "**Kolom *SumbuKecil***"
   ]
  },
  {
   "cell_type": "code",
   "execution_count": 93,
   "metadata": {
    "colab": {
     "base_uri": "https://localhost:8080/"
    },
    "id": "nCWaU86KsKZ3",
    "outputId": "b8bc52de-b548-4a64-9f2e-7761c6b14c7c"
   },
   "outputs": [
    {
     "name": "stdout",
     "output_type": "stream",
     "text": [
      "Hipotesis nol ditolak karena nilai t masuk ke dalam critical region.\n",
      "Nilai t-score yang dihasilkan adalah -3.4544393930005657\n",
      "P-Value yang dihasilkan untuk t-score tersebut adalah 0.0005985078116774393\n"
     ]
    }
   ],
   "source": [
    "data1 = Gandum[\"SumbuKecil\"]\n",
    "data2 = Gandum[\"Kelas\"]\n",
    "pearson_correlation_test(data1, data2)"
   ]
  },
  {
   "cell_type": "markdown",
   "metadata": {
    "id": "6_MH1kNHsKaX"
   },
   "source": [
    "*Karena $H_{0}$ ditolak, maka berarti bahwa kolom `SumbuKecil` memiliki korelasi dengan kolom `Kelas`. Karena pengujian dilakukan dengan menggunakan `Two-Tailed Test` dan nilai dari t-score masuk ke dalam daerah kritis pada `Left-Tail`, maka kita dapat menduga bahwa korelasi yang dimiliki antara kedua kolom tersebut merupakan korelasi linear berbanding terbalik. Hal ini dapat dilihat pada visualisasi kedua data pada `Scatter Plot` berikut.*"
   ]
  },
  {
   "cell_type": "code",
   "execution_count": 94,
   "metadata": {
    "colab": {
     "base_uri": "https://localhost:8080/",
     "height": 0
    },
    "id": "a_ZgSbJypt__",
    "outputId": "64b70b02-d4a5-45a6-b6ec-0a91446676f0"
   },
   "outputs": [
    {
     "data": {
      "image/png": "[encoded data removed]",
      "text/plain": [
       "<Figure size 360x360 with 1 Axes>"
      ]
     },
     "metadata": {},
     "output_type": "display_data"
    }
   ],
   "source": [
    "draw_scatter_plot(Gandum[\"SumbuKecil\"], Gandum[\"Kelas\"], Gandum)"
   ]
  },
  {
   "cell_type": "markdown",
   "metadata": {
    "id": "hmS3nJ2iizzM"
   },
   "source": [
    "**Kolom *Keunikan***"
   ]
  },
  {
   "cell_type": "code",
   "execution_count": 95,
   "metadata": {
    "colab": {
     "base_uri": "https://localhost:8080/"
    },
    "id": "jZuhYex4syWH",
    "outputId": "e2b06656-ab4f-4b11-ea55-d72032bbe6e5"
   },
   "outputs": [
    {
     "name": "stdout",
     "output_type": "stream",
     "text": [
      "Hipotesis nol ditolak karena nilai t masuk ke dalam critical region.\n",
      "Nilai t-score yang dihasilkan adalah -23.86789326422852\n",
      "P-Value yang dihasilkan untuk t-score tersebut adalah 1.6496790875484308e-84\n"
     ]
    }
   ],
   "source": [
    "data1 = Gandum[\"Keunikan\"]\n",
    "data2 = Gandum[\"Kelas\"]\n",
    "pearson_correlation_test(data1, data2)"
   ]
  },
  {
   "cell_type": "markdown",
   "metadata": {
    "id": "DHbsxCdZsyWf"
   },
   "source": [
    "*Karena $H_{0}$ ditolak, maka berarti bahwa kolom `Keunikan` memiliki korelasi dengan kolom `Kelas`. Karena pengujian dilakukan dengan menggunakan `Two-Tailed Test` dan nilai dari t-score masuk ke dalam daerah kritis pada `Left-Tail`, maka kita dapat menduga bahwa korelasi yang dimiliki antara kedua kolom tersebut merupakan korelasi linear berbanding terbalik. Hal ini dapat dilihat pada visualisasi kedua data pada `Scatter Plot` berikut.*"
   ]
  },
  {
   "cell_type": "code",
   "execution_count": 96,
   "metadata": {
    "colab": {
     "base_uri": "https://localhost:8080/",
     "height": 0
    },
    "id": "PN3dXjyppuPA",
    "outputId": "143f8559-9fe7-464e-e2be-79232d306811"
   },
   "outputs": [
    {
     "data": {
      "image/png": "[encoded data removed]",
      "text/plain": [
       "<Figure size 360x360 with 1 Axes>"
      ]
     },
     "metadata": {},
     "output_type": "display_data"
    }
   ],
   "source": [
    "draw_scatter_plot(Gandum[\"Keunikan\"], Gandum[\"Kelas\"], Gandum)"
   ]
  },
  {
   "cell_type": "markdown",
   "metadata": {
    "id": "3-Y-_nYBizzN"
   },
   "source": [
    "**Kolom *AreaBulatan***"
   ]
  },
  {
   "cell_type": "code",
   "execution_count": 97,
   "metadata": {
    "colab": {
     "base_uri": "https://localhost:8080/"
    },
    "id": "1hvquCngtuaP",
    "outputId": "4a7e9cda-7d77-4c13-f158-83eb2789ee61"
   },
   "outputs": [
    {
     "name": "stdout",
     "output_type": "stream",
     "text": [
      "Hipotesis nol ditolak karena nilai t masuk ke dalam critical region.\n",
      "Nilai t-score yang dihasilkan adalah -17.05898710873772\n",
      "P-Value yang dihasilkan untuk t-score tersebut adalah 1.0113804362935853e-51\n"
     ]
    }
   ],
   "source": [
    "data1 = Gandum[\"AreaBulatan\"]\n",
    "data2 = Gandum[\"Kelas\"]\n",
    "pearson_correlation_test(data1, data2)"
   ]
  },
  {
   "cell_type": "markdown",
   "metadata": {
    "id": "5F6IXye9tuar"
   },
   "source": [
    "*Karena $H_{0}$ ditolak, maka berarti bahwa kolom `AreaBulatan` memiliki korelasi dengan kolom `Kelas`. Karena pengujian dilakukan dengan menggunakan `Two-Tailed Test` dan nilai dari t-score masuk ke dalam daerah kritis pada `Left-Tail`, maka kita dapat menduga bahwa korelasi yang dimiliki antara kedua kolom tersebut merupakan korelasi linear berbanding terbalik. Hal ini dapat dilihat pada visualisasi kedua data pada `Scatter Plot` berikut.*"
   ]
  },
  {
   "cell_type": "code",
   "execution_count": 98,
   "metadata": {
    "colab": {
     "base_uri": "https://localhost:8080/",
     "height": 0
    },
    "id": "g0xAUXLtpui0",
    "outputId": "164b4702-567b-4357-d390-bdf907b258aa"
   },
   "outputs": [
    {
     "data": {
      "image/png": "[encoded data removed]",
      "text/plain": [
       "<Figure size 360x360 with 1 Axes>"
      ]
     },
     "metadata": {},
     "output_type": "display_data"
    }
   ],
   "source": [
    "draw_scatter_plot(Gandum[\"AreaBulatan\"], Gandum[\"Kelas\"], Gandum)"
   ]
  },
  {
   "cell_type": "markdown",
   "metadata": {
    "id": "F1I3vvS9izzO"
   },
   "source": [
    "**Kolom *Diameter***"
   ]
  },
  {
   "cell_type": "code",
   "execution_count": 99,
   "metadata": {
    "colab": {
     "base_uri": "https://localhost:8080/"
    },
    "id": "5tEfSV-Qt5e_",
    "outputId": "5fc3720c-62d6-48fb-fb5f-5a5772fe4c1a"
   },
   "outputs": [
    {
     "name": "stdout",
     "output_type": "stream",
     "text": [
      "Hipotesis nol ditolak karena nilai t masuk ke dalam critical region.\n",
      "Nilai t-score yang dihasilkan adalah -16.84785140830175\n",
      "P-Value yang dihasilkan untuk t-score tersebut adalah 9.862113990159727e-51\n"
     ]
    }
   ],
   "source": [
    "data1 = Gandum[\"Diameter\"]\n",
    "data2 = Gandum[\"Kelas\"]\n",
    "pearson_correlation_test(data1, data2)"
   ]
  },
  {
   "cell_type": "markdown",
   "metadata": {
    "id": "CKkiQZLct5fP"
   },
   "source": [
    "*Karena $H_{0}$ ditolak, maka berarti bahwa kolom `Diameter` memiliki korelasi dengan kolom `Kelas`. Karena pengujian dilakukan dengan menggunakan `Two-Tailed Test` dan nilai dari t-score masuk ke dalam daerah kritis pada `Left-Tail`, maka kita dapat menduga bahwa korelasi yang dimiliki antara kedua kolom tersebut merupakan korelasi linear berbanding terbalik. Hal ini dapat dilihat pada visualisasi kedua data pada `Scatter Plot` berikut.*"
   ]
  },
  {
   "cell_type": "code",
   "execution_count": 100,
   "metadata": {
    "colab": {
     "base_uri": "https://localhost:8080/",
     "height": 0
    },
    "id": "r5fB8dP7puyH",
    "outputId": "3d963bfb-060e-446d-d781-1194c3e9be59"
   },
   "outputs": [
    {
     "data": {
      "image/png": "[encoded data removed]",
      "text/plain": [
       "<Figure size 360x360 with 1 Axes>"
      ]
     },
     "metadata": {},
     "output_type": "display_data"
    }
   ],
   "source": [
    "draw_scatter_plot(Gandum[\"Diameter\"], Gandum[\"Kelas\"], Gandum)"
   ]
  },
  {
   "cell_type": "markdown",
   "metadata": {
    "id": "7GDsA8LWizzP"
   },
   "source": [
    "**Kolom *KadarAir***"
   ]
  },
  {
   "cell_type": "code",
   "execution_count": 101,
   "metadata": {
    "colab": {
     "base_uri": "https://localhost:8080/"
    },
    "id": "rSKQpwVruAbO",
    "outputId": "ef02049c-8d08-47cd-be70-fa5473b9af9c"
   },
   "outputs": [
    {
     "name": "stdout",
     "output_type": "stream",
     "text": [
      "Hipotesis nol ditolak karena nilai t masuk ke dalam critical region.\n",
      "Nilai t-score yang dihasilkan adalah 3.0254405933582365\n",
      "P-Value yang dihasilkan untuk t-score tersebut adalah 0.002611048361291886\n"
     ]
    }
   ],
   "source": [
    "data1 = Gandum[\"KadarAir\"]\n",
    "data2 = Gandum[\"Kelas\"]\n",
    "pearson_correlation_test(data1, data2)"
   ]
  },
  {
   "cell_type": "markdown",
   "metadata": {
    "id": "w95PRQX0uAbQ"
   },
   "source": [
    "*Karena $H_{0}$ ditolak, maka berarti bahwa kolom `KadarAir` memiliki korelasi dengan kolom `Kelas`. Karena pengujian dilakukan dengan menggunakan `Two-Tailed Test` dan nilai dari t-score masuk ke dalam daerah kritis pada `Right-Tail`, maka kita dapat menduga bahwa korelasi yang dimiliki antara kedua kolom tersebut merupakan korelasi linear berbanding lurus. Hal ini dapat dilihat pada visualisasi kedua data pada `Scatter Plot` berikut.*"
   ]
  },
  {
   "cell_type": "code",
   "execution_count": 102,
   "metadata": {
    "colab": {
     "base_uri": "https://localhost:8080/",
     "height": 0
    },
    "id": "b0Hx2LgXpvFB",
    "outputId": "882a3b3a-abed-4afe-da4d-63204e2dfbf1"
   },
   "outputs": [
    {
     "data": {
      "image/png": "[encoded data removed]",
      "text/plain": [
       "<Figure size 360x360 with 1 Axes>"
      ]
     },
     "metadata": {},
     "output_type": "display_data"
    }
   ],
   "source": [
    "draw_scatter_plot(Gandum[\"KadarAir\"], Gandum[\"Kelas\"], Gandum)"
   ]
  },
  {
   "cell_type": "markdown",
   "metadata": {
    "id": "R93CBpO7izzQ"
   },
   "source": [
    "**Kolom *Keliling***"
   ]
  },
  {
   "cell_type": "code",
   "execution_count": 103,
   "metadata": {
    "colab": {
     "base_uri": "https://localhost:8080/"
    },
    "id": "eeNloEgnuEe2",
    "outputId": "7767fc4e-8128-4e1e-bbb3-0ac97db51a24"
   },
   "outputs": [
    {
     "name": "stdout",
     "output_type": "stream",
     "text": [
      "Hipotesis nol ditolak karena nilai t masuk ke dalam critical region.\n",
      "Nilai t-score yang dihasilkan adalah -18.336797999269574\n",
      "P-Value yang dihasilkan untuk t-score tersebut adalah 9.078940431306297e-58\n"
     ]
    }
   ],
   "source": [
    "data1 = Gandum[\"Keliling\"]\n",
    "data2 = Gandum[\"Kelas\"]\n",
    "pearson_correlation_test(data1, data2)"
   ]
  },
  {
   "cell_type": "markdown",
   "metadata": {
    "id": "66KM2CVIuEe4"
   },
   "source": [
    "*Karena $H_{0}$ ditolak, maka berarti bahwa kolom `Keliling` memiliki korelasi dengan kolom `Kelas`. Karena pengujian dilakukan dengan menggunakan `Two-Tailed Test` dan nilai dari t-score masuk ke dalam daerah kritis pada `Left-Tail`, maka kita dapat menduga bahwa korelasi yang dimiliki antara kedua kolom tersebut merupakan korelasi linear berbanding terbalik. Hal ini dapat dilihat pada visualisasi kedua data pada `Scatter Plot` berikut.*"
   ]
  },
  {
   "cell_type": "code",
   "execution_count": 104,
   "metadata": {
    "colab": {
     "base_uri": "https://localhost:8080/",
     "height": 0
    },
    "id": "ci5g1Z6NpvXV",
    "outputId": "1f3cba9a-497e-4473-b6b0-534e5eb32630"
   },
   "outputs": [
    {
     "data": {
      "image/png": "[encoded data removed]",
      "text/plain": [
       "<Figure size 360x360 with 1 Axes>"
      ]
     },
     "metadata": {},
     "output_type": "display_data"
    }
   ],
   "source": [
    "draw_scatter_plot(Gandum[\"Keliling\"], Gandum[\"Kelas\"], Gandum)"
   ]
  },
  {
   "cell_type": "markdown",
   "metadata": {
    "id": "_gdNfgqgizzR"
   },
   "source": [
    "**Kolom *Bulatan***"
   ]
  },
  {
   "cell_type": "code",
   "execution_count": 105,
   "metadata": {
    "colab": {
     "base_uri": "https://localhost:8080/"
    },
    "id": "z-k5lId2ua7G",
    "outputId": "65b31d2a-a030-4b67-bb31-8f105d6b80ed"
   },
   "outputs": [
    {
     "name": "stdout",
     "output_type": "stream",
     "text": [
      "Hipotesis nol ditolak karena nilai t masuk ke dalam critical region.\n",
      "Nilai t-score yang dihasilkan adalah 14.505956489527223\n",
      "P-Value yang dihasilkan untuk t-score tersebut adalah 5.034375715560436e-40\n"
     ]
    }
   ],
   "source": [
    "data1 = Gandum[\"Bulatan\"]\n",
    "data2 = Gandum[\"Kelas\"]\n",
    "pearson_correlation_test(data1, data2)"
   ]
  },
  {
   "cell_type": "markdown",
   "metadata": {
    "id": "gKaTspcnua7I"
   },
   "source": [
    "*Karena $H_{0}$ ditolak, maka berarti bahwa kolom `Bulatan` memiliki korelasi dengan kolom `Kelas`. Karena pengujian dilakukan dengan menggunakan `Two-Tailed Test` dan nilai dari t-score masuk ke dalam daerah kritis pada `Right-Tail`, maka kita dapat menduga bahwa korelasi yang dimiliki antara kedua kolom tersebut merupakan korelasi linear berbanding lurus. Hal ini dapat dilihat pada visualisasi kedua data pada `Scatter Plot` berikut.*"
   ]
  },
  {
   "cell_type": "code",
   "execution_count": 106,
   "metadata": {
    "colab": {
     "base_uri": "https://localhost:8080/",
     "height": 0
    },
    "id": "4EjHgKB-pvwE",
    "outputId": "876d75d8-b103-4c1d-d477-30f7bfe5be43"
   },
   "outputs": [
    {
     "data": {
      "image/png": "[encoded data removed]",
      "text/plain": [
       "<Figure size 360x360 with 1 Axes>"
      ]
     },
     "metadata": {},
     "output_type": "display_data"
    }
   ],
   "source": [
    "draw_scatter_plot(Gandum[\"Bulatan\"], Gandum[\"Kelas\"], Gandum)"
   ]
  },
  {
   "cell_type": "markdown",
   "metadata": {
    "id": "hTJ4Tkj1izzR"
   },
   "source": [
    "**Kolom *Ransum***"
   ]
  },
  {
   "cell_type": "code",
   "execution_count": 107,
   "metadata": {
    "colab": {
     "base_uri": "https://localhost:8080/"
    },
    "id": "1MCk57Zfuj6_",
    "outputId": "a5173c19-2696-4c70-c6c2-a086aa753aa2"
   },
   "outputs": [
    {
     "name": "stdout",
     "output_type": "stream",
     "text": [
      "Hipotesis nol ditolak karena nilai t masuk ke dalam critical region.\n",
      "Nilai t-score yang dihasilkan adalah -34.53474607283391\n",
      "P-Value yang dihasilkan untuk t-score tersebut adalah 2.840094086786777e-134\n"
     ]
    }
   ],
   "source": [
    "data1 = Gandum[\"Ransum\"]\n",
    "data2 = Gandum[\"Kelas\"]\n",
    "pearson_correlation_test(data1, data2)"
   ]
  },
  {
   "cell_type": "markdown",
   "metadata": {
    "id": "WlvRe8PMuj7B"
   },
   "source": [
    "*Karena $H_{0}$ ditolak, maka berarti bahwa kolom `Ransum` memiliki korelasi dengan kolom `Kelas`. Karena pengujian dilakukan dengan menggunakan `Two-Tailed Test` dan nilai dari t-score masuk ke dalam daerah kritis pada `Left-Tail`, maka kita dapat menduga bahwa korelasi yang dimiliki antara kedua kolom tersebut merupakan korelasi linear berbanding terbalik. Hal ini dapat dilihat pada visualisasi kedua data pada `Scatter Plot` berikut.*"
   ]
  },
  {
   "cell_type": "code",
   "execution_count": 108,
   "metadata": {
    "colab": {
     "base_uri": "https://localhost:8080/",
     "height": 0
    },
    "id": "xIGPNhzspwAi",
    "outputId": "4e6a6bdd-b056-4a26-a2a2-b7c5d5b17fd9"
   },
   "outputs": [
    {
     "data": {
      "image/png": "[encoded data removed]",
      "text/plain": [
       "<Figure size 360x360 with 1 Axes>"
      ]
     },
     "metadata": {},
     "output_type": "display_data"
    }
   ],
   "source": [
    "draw_scatter_plot(Gandum[\"Ransum\"], Gandum[\"Kelas\"], Gandum)"
   ]
  },
  {
   "cell_type": "markdown",
   "metadata": {
    "id": "iRF-VAykjCUq"
   },
   "source": [
    "# Referensi"
   ]
  },
  {
   "cell_type": "markdown",
   "metadata": {
    "id": "yzpf860mjEpw"
   },
   "source": [
    "[Analytics Vidhya](https://www.analyticsvidhya.com/blog/2020/06/statistics-analytics-hypothesis-testing-z-test-t-test/)\n",
    "\n",
    "[Organic Chemistry](https://www.youtube.com/watch?v=76VruarGn2Q)\n",
    "\n",
    "[Stikpet](https://www.youtube.com/watch?v=TRNaMGkdn-A)\n",
    "\n",
    "[TDS1](https://towardsdatascience.com/hypothesis-testing-in-machine-learning-using-python-a0dc89e169ce)\n",
    "\n",
    "[TDS2](https://towardsdatascience.com/statistical-tests-when-to-use-which-704557554740)"
   ]
  }
 ],
 "metadata": {
  "colab": {
   "collapsed_sections": [
    "pb-ekZCWKA8P",
    "op4z_JGLJwI_",
    "pKkZwp-lJZ3H",
    "1XzpnX0sxbM-",
    "PiEBUADVFRI6",
    "245EocXkwG4w",
    "ojNYI80gMZdV",
    "mGOkZOB1Mffz",
    "cUI-XB2MVAbS",
    "CKGowQokVA2s",
    "6q47v3RbVA-o",
    "WJkHRjJWnkTa",
    "RDuBAzqnadeQ",
    "lJBwDkBJgEkX",
    "9Cdw13Jij6VD",
    "ejlEEvGhvLSV",
    "iRF-VAykjCUq"
   ],
   "name": "04-T1-IF2220-13519180.ipynb",
   "provenance": [],
   "toc_visible": true
  },
  "kernelspec": {
   "display_name": "Python 3",
   "language": "python",
   "name": "python3"
  },
  "language_info": {
   "codemirror_mode": {
    "name": "ipython",
    "version": 3
   },
   "file_extension": ".py",
   "mimetype": "text/x-python",
   "name": "python",
   "nbconvert_exporter": "python",
   "pygments_lexer": "ipython3",
   "version": "3.8.6"
  }
 },
 "nbformat": 4,
 "nbformat_minor": 1
}
